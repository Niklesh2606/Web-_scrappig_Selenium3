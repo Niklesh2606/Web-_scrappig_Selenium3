{
 "cells": [
  {
   "cell_type": "markdown",
   "metadata": {},
   "source": [
    "# Web Scrapping Part 2 - Selenium "
   ]
  },
  {
   "cell_type": "markdown",
   "metadata": {},
   "source": [
    "### Q1: Write a python program to scrape data for “Data Analyst” Job position in “Bangalore” location. You have to scrape the job-title, job-location, company_name,experience_required. You have to scrape first 10 jobs data."
   ]
  },
  {
   "cell_type": "code",
   "execution_count": 1,
   "metadata": {},
   "outputs": [
    {
     "name": "stdout",
     "output_type": "stream",
     "text": [
      "Requirement already satisfied: selenium in c:\\users\\user\\anaconda3\\lib\\site-packages (3.141.0)\n",
      "Requirement already satisfied: urllib3 in c:\\users\\user\\anaconda3\\lib\\site-packages (from selenium) (1.25.11)\n"
     ]
    }
   ],
   "source": [
    "!pip install selenium"
   ]
  },
  {
   "cell_type": "code",
   "execution_count": 2,
   "metadata": {},
   "outputs": [],
   "source": [
    "import selenium\n",
    "import pandas as pd\n",
    "from selenium import webdriver\n",
    "import time\n"
   ]
  },
  {
   "cell_type": "code",
   "execution_count": 3,
   "metadata": {},
   "outputs": [],
   "source": [
    "# Lets Connect to Web driver\n",
    "driver = webdriver.Chrome(r\"D:\\Project\\Web Driver\\chromedriver.exe\")"
   ]
  },
  {
   "cell_type": "code",
   "execution_count": 4,
   "metadata": {},
   "outputs": [],
   "source": [
    "url = 'https://www.naukri.com/'\n",
    "driver.get(url)"
   ]
  },
  {
   "cell_type": "code",
   "execution_count": 5,
   "metadata": {},
   "outputs": [
    {
     "data": {
      "text/plain": [
       "<selenium.webdriver.remote.webelement.WebElement (session=\"2f423604d0027d5c7a7e632ca14bc0f7\", element=\"f37c8a6a-eca5-46b9-ab51-88ef7c6b0606\")>"
      ]
     },
     "execution_count": 5,
     "metadata": {},
     "output_type": "execute_result"
    }
   ],
   "source": [
    "Search_DA = driver.find_element_by_xpath(\"//input[@id = 'qsb-keyword-sugg']\")\n",
    "Search_DA"
   ]
  },
  {
   "cell_type": "code",
   "execution_count": 6,
   "metadata": {},
   "outputs": [],
   "source": [
    "Search_DA.send_keys(\"Data Analyst\")"
   ]
  },
  {
   "cell_type": "code",
   "execution_count": 7,
   "metadata": {},
   "outputs": [
    {
     "data": {
      "text/plain": [
       "<selenium.webdriver.remote.webelement.WebElement (session=\"2f423604d0027d5c7a7e632ca14bc0f7\", element=\"ad9e9de4-43e2-4af4-9bef-ec4d8da05463\")>"
      ]
     },
     "execution_count": 7,
     "metadata": {},
     "output_type": "execute_result"
    }
   ],
   "source": [
    "Search_Location = driver.find_element_by_xpath(\"//input[@id = 'qsb-location-sugg']\")\n",
    "Search_Location"
   ]
  },
  {
   "cell_type": "code",
   "execution_count": 8,
   "metadata": {},
   "outputs": [],
   "source": [
    "Search_Location.send_keys(\"Bangalore\")"
   ]
  },
  {
   "cell_type": "code",
   "execution_count": 9,
   "metadata": {},
   "outputs": [
    {
     "data": {
      "text/plain": [
       "<selenium.webdriver.remote.webelement.WebElement (session=\"2f423604d0027d5c7a7e632ca14bc0f7\", element=\"92bf824a-8547-4908-bab4-1b1f9d7b7e85\")>"
      ]
     },
     "execution_count": 9,
     "metadata": {},
     "output_type": "execute_result"
    }
   ],
   "source": [
    "Click_search = driver.find_element_by_xpath(\"//button[@class='btn']\")\n",
    "Click_search"
   ]
  },
  {
   "cell_type": "code",
   "execution_count": 10,
   "metadata": {},
   "outputs": [],
   "source": [
    "Click_search.click()"
   ]
  },
  {
   "cell_type": "code",
   "execution_count": 20,
   "metadata": {},
   "outputs": [
    {
     "data": {
      "text/plain": [
       "[<selenium.webdriver.remote.webelement.WebElement (session=\"2f423604d0027d5c7a7e632ca14bc0f7\", element=\"becb7601-a631-4ac4-be19-db316a3fc91a\")>,\n",
       " <selenium.webdriver.remote.webelement.WebElement (session=\"2f423604d0027d5c7a7e632ca14bc0f7\", element=\"7dee2d1e-305d-4b22-a3a3-bef70ee9183e\")>,\n",
       " <selenium.webdriver.remote.webelement.WebElement (session=\"2f423604d0027d5c7a7e632ca14bc0f7\", element=\"1d58adcc-df0c-4b2c-aa44-a4b91bc509e7\")>,\n",
       " <selenium.webdriver.remote.webelement.WebElement (session=\"2f423604d0027d5c7a7e632ca14bc0f7\", element=\"fda40c5c-a53b-4639-bd9c-7d957a370fa7\")>,\n",
       " <selenium.webdriver.remote.webelement.WebElement (session=\"2f423604d0027d5c7a7e632ca14bc0f7\", element=\"d1d51fb5-fd99-448f-9d48-3be6cc100d2b\")>,\n",
       " <selenium.webdriver.remote.webelement.WebElement (session=\"2f423604d0027d5c7a7e632ca14bc0f7\", element=\"77aa5f19-ab5a-464b-aec0-0a8fdfc619c7\")>,\n",
       " <selenium.webdriver.remote.webelement.WebElement (session=\"2f423604d0027d5c7a7e632ca14bc0f7\", element=\"d8430507-771a-4172-b692-9b634708ad77\")>,\n",
       " <selenium.webdriver.remote.webelement.WebElement (session=\"2f423604d0027d5c7a7e632ca14bc0f7\", element=\"a78333dc-d108-498c-8477-ba3639f1e589\")>,\n",
       " <selenium.webdriver.remote.webelement.WebElement (session=\"2f423604d0027d5c7a7e632ca14bc0f7\", element=\"9e8770c6-93da-4286-8118-92dfc29e3d25\")>,\n",
       " <selenium.webdriver.remote.webelement.WebElement (session=\"2f423604d0027d5c7a7e632ca14bc0f7\", element=\"b3c0c7dc-bc5b-4170-b87c-0e3212c45097\")>,\n",
       " <selenium.webdriver.remote.webelement.WebElement (session=\"2f423604d0027d5c7a7e632ca14bc0f7\", element=\"dcc4f71c-2415-4b1d-9738-c8eab5e41d3d\")>,\n",
       " <selenium.webdriver.remote.webelement.WebElement (session=\"2f423604d0027d5c7a7e632ca14bc0f7\", element=\"048a5806-6af0-4d93-8d25-ed0018bf066c\")>,\n",
       " <selenium.webdriver.remote.webelement.WebElement (session=\"2f423604d0027d5c7a7e632ca14bc0f7\", element=\"71eb692a-f418-4966-9de0-5de97635f19b\")>,\n",
       " <selenium.webdriver.remote.webelement.WebElement (session=\"2f423604d0027d5c7a7e632ca14bc0f7\", element=\"6d47cbb2-d8d6-4f88-898a-a7bd8365200d\")>,\n",
       " <selenium.webdriver.remote.webelement.WebElement (session=\"2f423604d0027d5c7a7e632ca14bc0f7\", element=\"66dfb311-81dc-41a8-afd9-4af668353a13\")>,\n",
       " <selenium.webdriver.remote.webelement.WebElement (session=\"2f423604d0027d5c7a7e632ca14bc0f7\", element=\"22412467-fc6c-4926-a140-039c1ee674e6\")>,\n",
       " <selenium.webdriver.remote.webelement.WebElement (session=\"2f423604d0027d5c7a7e632ca14bc0f7\", element=\"019e2f71-b9e2-46ac-8ee7-01f08471ccfc\")>,\n",
       " <selenium.webdriver.remote.webelement.WebElement (session=\"2f423604d0027d5c7a7e632ca14bc0f7\", element=\"085b6f63-597a-444e-977b-f299d3ff6bd6\")>,\n",
       " <selenium.webdriver.remote.webelement.WebElement (session=\"2f423604d0027d5c7a7e632ca14bc0f7\", element=\"a1a58d8e-180b-4106-b59a-6599cfc2eb5e\")>,\n",
       " <selenium.webdriver.remote.webelement.WebElement (session=\"2f423604d0027d5c7a7e632ca14bc0f7\", element=\"3275c889-5fa4-4641-81c5-d582b89b90e2\")>]"
      ]
     },
     "execution_count": 20,
     "metadata": {},
     "output_type": "execute_result"
    }
   ],
   "source": [
    "Job_titletags = driver.find_elements_by_xpath(\"//a[@class='title fw500 ellipsis']\")\n",
    "Job_titletags"
   ]
  },
  {
   "cell_type": "code",
   "execution_count": 21,
   "metadata": {},
   "outputs": [
    {
     "data": {
      "text/plain": [
       "['Data Scientist / Data Analyst -Business Analyst',\n",
       " 'Network Design & Data Analyst',\n",
       " 'Consultant - Data Analyst',\n",
       " 'Software Developer / Web Developer/data analyst',\n",
       " 'Data Analyst',\n",
       " 'Data Analyst',\n",
       " 'FTE - Regional BI - Functional Data Analyst',\n",
       " 'Deputy Manager - Data Analyst',\n",
       " 'Data Analyst CX',\n",
       " 'Data Analyst']"
      ]
     },
     "execution_count": 21,
     "metadata": {},
     "output_type": "execute_result"
    }
   ],
   "source": [
    "# Extracting job title from Job title TAgs\n",
    "\n",
    "Job_Title = []\n",
    "\n",
    "for i in Job_titletags:\n",
    "    Job_Title.append(i.text)\n",
    "\n",
    "Job_title_List = Job_Title[:10]\n",
    "Job_title_List"
   ]
  },
  {
   "cell_type": "code",
   "execution_count": 22,
   "metadata": {},
   "outputs": [
    {
     "data": {
      "text/plain": [
       "[<selenium.webdriver.remote.webelement.WebElement (session=\"2f423604d0027d5c7a7e632ca14bc0f7\", element=\"dc324492-4a34-4904-9a75-2bac3d1f040e\")>,\n",
       " <selenium.webdriver.remote.webelement.WebElement (session=\"2f423604d0027d5c7a7e632ca14bc0f7\", element=\"5efb6f46-2fc0-4461-977b-685d64510e78\")>,\n",
       " <selenium.webdriver.remote.webelement.WebElement (session=\"2f423604d0027d5c7a7e632ca14bc0f7\", element=\"9151a635-2df7-40b2-820c-8a69e8db4dfb\")>,\n",
       " <selenium.webdriver.remote.webelement.WebElement (session=\"2f423604d0027d5c7a7e632ca14bc0f7\", element=\"001fb371-92b6-4976-ad9a-f726f3a56c27\")>,\n",
       " <selenium.webdriver.remote.webelement.WebElement (session=\"2f423604d0027d5c7a7e632ca14bc0f7\", element=\"818674ce-8919-4bbb-8ddf-a8bc62864ecf\")>,\n",
       " <selenium.webdriver.remote.webelement.WebElement (session=\"2f423604d0027d5c7a7e632ca14bc0f7\", element=\"5b38bdad-70b6-40f8-bd68-b89e4cee03e6\")>,\n",
       " <selenium.webdriver.remote.webelement.WebElement (session=\"2f423604d0027d5c7a7e632ca14bc0f7\", element=\"d046dd71-b31a-453f-9064-1bd2c7cf049f\")>,\n",
       " <selenium.webdriver.remote.webelement.WebElement (session=\"2f423604d0027d5c7a7e632ca14bc0f7\", element=\"a674f712-7335-4291-bbf9-425fb6bd079c\")>,\n",
       " <selenium.webdriver.remote.webelement.WebElement (session=\"2f423604d0027d5c7a7e632ca14bc0f7\", element=\"f713a908-6b62-42a2-8bb1-927d292f3d7c\")>,\n",
       " <selenium.webdriver.remote.webelement.WebElement (session=\"2f423604d0027d5c7a7e632ca14bc0f7\", element=\"b4be4b27-c712-4e2c-a1ae-7ab44a9805f3\")>,\n",
       " <selenium.webdriver.remote.webelement.WebElement (session=\"2f423604d0027d5c7a7e632ca14bc0f7\", element=\"87308db2-a81d-44b7-bdf9-bc6dd754021f\")>,\n",
       " <selenium.webdriver.remote.webelement.WebElement (session=\"2f423604d0027d5c7a7e632ca14bc0f7\", element=\"ec86206d-f0c8-4fd1-b620-b568e4eb72f5\")>,\n",
       " <selenium.webdriver.remote.webelement.WebElement (session=\"2f423604d0027d5c7a7e632ca14bc0f7\", element=\"a85eceb4-76fe-449d-ae25-b772c6e2601c\")>,\n",
       " <selenium.webdriver.remote.webelement.WebElement (session=\"2f423604d0027d5c7a7e632ca14bc0f7\", element=\"b8608786-fc6b-4569-b3b3-5b4a32e32386\")>,\n",
       " <selenium.webdriver.remote.webelement.WebElement (session=\"2f423604d0027d5c7a7e632ca14bc0f7\", element=\"82512eaf-290e-4b22-99ce-67dc7eedae14\")>,\n",
       " <selenium.webdriver.remote.webelement.WebElement (session=\"2f423604d0027d5c7a7e632ca14bc0f7\", element=\"5d3b70c1-591f-458d-9cb2-7376bb847d52\")>,\n",
       " <selenium.webdriver.remote.webelement.WebElement (session=\"2f423604d0027d5c7a7e632ca14bc0f7\", element=\"95206a5d-1680-45a7-953f-d8b213d13eb2\")>,\n",
       " <selenium.webdriver.remote.webelement.WebElement (session=\"2f423604d0027d5c7a7e632ca14bc0f7\", element=\"c78c557f-0496-4468-89e5-b73475de34ac\")>,\n",
       " <selenium.webdriver.remote.webelement.WebElement (session=\"2f423604d0027d5c7a7e632ca14bc0f7\", element=\"784c9cab-0ca1-43d2-a15e-373de14b0e65\")>,\n",
       " <selenium.webdriver.remote.webelement.WebElement (session=\"2f423604d0027d5c7a7e632ca14bc0f7\", element=\"d12e9500-ad55-4465-b874-22b56df81d6f\")>,\n",
       " <selenium.webdriver.remote.webelement.WebElement (session=\"2f423604d0027d5c7a7e632ca14bc0f7\", element=\"0accb254-0de2-4dcd-bca4-f15fd9c85230\")>,\n",
       " <selenium.webdriver.remote.webelement.WebElement (session=\"2f423604d0027d5c7a7e632ca14bc0f7\", element=\"e24133e8-58b3-4fc6-9d21-41b5c6974f12\")>,\n",
       " <selenium.webdriver.remote.webelement.WebElement (session=\"2f423604d0027d5c7a7e632ca14bc0f7\", element=\"3d0432c1-d859-4f53-97c7-fe97321be3ca\")>,\n",
       " <selenium.webdriver.remote.webelement.WebElement (session=\"2f423604d0027d5c7a7e632ca14bc0f7\", element=\"b6100e0a-f4c1-4b67-bee2-7cf607920a93\")>,\n",
       " <selenium.webdriver.remote.webelement.WebElement (session=\"2f423604d0027d5c7a7e632ca14bc0f7\", element=\"72646b4a-5498-46ca-9392-e5f3093d04e4\")>,\n",
       " <selenium.webdriver.remote.webelement.WebElement (session=\"2f423604d0027d5c7a7e632ca14bc0f7\", element=\"13e2a1f3-8324-460b-84cd-a918697bd9fb\")>,\n",
       " <selenium.webdriver.remote.webelement.WebElement (session=\"2f423604d0027d5c7a7e632ca14bc0f7\", element=\"d65993f1-7961-4707-b1ce-c22caf63fd3c\")>,\n",
       " <selenium.webdriver.remote.webelement.WebElement (session=\"2f423604d0027d5c7a7e632ca14bc0f7\", element=\"3f5a13f1-14ca-46b5-a3d8-853ee3f6bc11\")>,\n",
       " <selenium.webdriver.remote.webelement.WebElement (session=\"2f423604d0027d5c7a7e632ca14bc0f7\", element=\"0009fde7-64ff-4738-90b5-326221888fab\")>,\n",
       " <selenium.webdriver.remote.webelement.WebElement (session=\"2f423604d0027d5c7a7e632ca14bc0f7\", element=\"5994fb8a-7900-46fd-9703-61a3b5b311e7\")>,\n",
       " <selenium.webdriver.remote.webelement.WebElement (session=\"2f423604d0027d5c7a7e632ca14bc0f7\", element=\"b1a6f261-3a59-417d-bd04-18f49193e532\")>,\n",
       " <selenium.webdriver.remote.webelement.WebElement (session=\"2f423604d0027d5c7a7e632ca14bc0f7\", element=\"d33ae669-a550-4ec1-b252-83a64509a2fe\")>,\n",
       " <selenium.webdriver.remote.webelement.WebElement (session=\"2f423604d0027d5c7a7e632ca14bc0f7\", element=\"845e855c-9af4-45fa-bd81-9a1c43aca4e0\")>,\n",
       " <selenium.webdriver.remote.webelement.WebElement (session=\"2f423604d0027d5c7a7e632ca14bc0f7\", element=\"5f94e9ab-b0d5-4e46-ae18-39016ae6ea8a\")>,\n",
       " <selenium.webdriver.remote.webelement.WebElement (session=\"2f423604d0027d5c7a7e632ca14bc0f7\", element=\"4c3f2911-a0d7-46b0-918b-5946afe04497\")>,\n",
       " <selenium.webdriver.remote.webelement.WebElement (session=\"2f423604d0027d5c7a7e632ca14bc0f7\", element=\"2d9f4886-a63e-45e9-8659-834b7d39cbba\")>,\n",
       " <selenium.webdriver.remote.webelement.WebElement (session=\"2f423604d0027d5c7a7e632ca14bc0f7\", element=\"d2635049-c362-4d15-bdd7-476412e1272f\")>,\n",
       " <selenium.webdriver.remote.webelement.WebElement (session=\"2f423604d0027d5c7a7e632ca14bc0f7\", element=\"bd21b7c8-d594-4eee-9d4c-c843135512ee\")>,\n",
       " <selenium.webdriver.remote.webelement.WebElement (session=\"2f423604d0027d5c7a7e632ca14bc0f7\", element=\"fc5e8e09-07a0-4f77-ac7d-c019a8def8a5\")>,\n",
       " <selenium.webdriver.remote.webelement.WebElement (session=\"2f423604d0027d5c7a7e632ca14bc0f7\", element=\"58d61f6c-b918-49b8-8e92-8c67d2491f81\")>,\n",
       " <selenium.webdriver.remote.webelement.WebElement (session=\"2f423604d0027d5c7a7e632ca14bc0f7\", element=\"2e8bf807-d885-4d07-bfbf-26d25a182115\")>,\n",
       " <selenium.webdriver.remote.webelement.WebElement (session=\"2f423604d0027d5c7a7e632ca14bc0f7\", element=\"46bbfc5c-500d-4ea4-87af-3ca22569f107\")>,\n",
       " <selenium.webdriver.remote.webelement.WebElement (session=\"2f423604d0027d5c7a7e632ca14bc0f7\", element=\"1abdb5fe-7f23-4cd1-baf8-7a0702108e91\")>,\n",
       " <selenium.webdriver.remote.webelement.WebElement (session=\"2f423604d0027d5c7a7e632ca14bc0f7\", element=\"85d4c529-36b6-4c67-8a8d-6b01d195b1ce\")>,\n",
       " <selenium.webdriver.remote.webelement.WebElement (session=\"2f423604d0027d5c7a7e632ca14bc0f7\", element=\"2cf19fca-249c-4a4f-a613-93116d1a8bcc\")>,\n",
       " <selenium.webdriver.remote.webelement.WebElement (session=\"2f423604d0027d5c7a7e632ca14bc0f7\", element=\"5d356224-ac02-4cda-b426-0eb1828d2f33\")>,\n",
       " <selenium.webdriver.remote.webelement.WebElement (session=\"2f423604d0027d5c7a7e632ca14bc0f7\", element=\"62fd528a-c5db-4f54-8365-a72f91a9cbe9\")>,\n",
       " <selenium.webdriver.remote.webelement.WebElement (session=\"2f423604d0027d5c7a7e632ca14bc0f7\", element=\"8edffed3-0234-43be-937e-56204ab8e264\")>,\n",
       " <selenium.webdriver.remote.webelement.WebElement (session=\"2f423604d0027d5c7a7e632ca14bc0f7\", element=\"2824629b-d910-401d-b11f-8d172bd33772\")>,\n",
       " <selenium.webdriver.remote.webelement.WebElement (session=\"2f423604d0027d5c7a7e632ca14bc0f7\", element=\"97fff302-ebc4-4fda-95e9-fa30987e6029\")>,\n",
       " <selenium.webdriver.remote.webelement.WebElement (session=\"2f423604d0027d5c7a7e632ca14bc0f7\", element=\"0d605a1e-7aa4-46f0-b426-5434b2ac3180\")>,\n",
       " <selenium.webdriver.remote.webelement.WebElement (session=\"2f423604d0027d5c7a7e632ca14bc0f7\", element=\"cac70d02-262c-41d1-985a-10c34ed84170\")>,\n",
       " <selenium.webdriver.remote.webelement.WebElement (session=\"2f423604d0027d5c7a7e632ca14bc0f7\", element=\"a61304b6-2e37-4ae4-8362-4fa181d01df4\")>,\n",
       " <selenium.webdriver.remote.webelement.WebElement (session=\"2f423604d0027d5c7a7e632ca14bc0f7\", element=\"277bf83a-4083-41cc-a6d9-c1779d6e9a88\")>,\n",
       " <selenium.webdriver.remote.webelement.WebElement (session=\"2f423604d0027d5c7a7e632ca14bc0f7\", element=\"2687735c-04d7-4d9e-91b8-9c966ad6d97e\")>,\n",
       " <selenium.webdriver.remote.webelement.WebElement (session=\"2f423604d0027d5c7a7e632ca14bc0f7\", element=\"014980bc-d5fa-4215-9a89-00778f43957f\")>,\n",
       " <selenium.webdriver.remote.webelement.WebElement (session=\"2f423604d0027d5c7a7e632ca14bc0f7\", element=\"10a11e90-f9f0-4043-b868-bc49fd6f458c\")>,\n",
       " <selenium.webdriver.remote.webelement.WebElement (session=\"2f423604d0027d5c7a7e632ca14bc0f7\", element=\"fe45ce6c-53b7-4cb1-b958-224ce7034527\")>,\n",
       " <selenium.webdriver.remote.webelement.WebElement (session=\"2f423604d0027d5c7a7e632ca14bc0f7\", element=\"73d3b062-dbe9-4816-974b-c7275b69acf2\")>,\n",
       " <selenium.webdriver.remote.webelement.WebElement (session=\"2f423604d0027d5c7a7e632ca14bc0f7\", element=\"c771f520-ecd5-48b2-95b7-68397477a24e\")>]"
      ]
     },
     "execution_count": 22,
     "metadata": {},
     "output_type": "execute_result"
    }
   ],
   "source": [
    "# Job location tags\n",
    "Job_Locationtags = driver.find_elements_by_xpath(\"//span[@class='ellipsis fleft fs12 lh16']\")\n",
    "Job_Locationtags"
   ]
  },
  {
   "cell_type": "code",
   "execution_count": 23,
   "metadata": {
    "scrolled": true
   },
   "outputs": [
    {
     "data": {
      "text/plain": [
       "['0-3 Yrs',\n",
       " '3,50,000 - 4,50,000 PA.',\n",
       " 'Hyderabad/Secunderabad, Chennai, Bangalore/Bengaluru',\n",
       " '0-2 Yrs',\n",
       " 'Not disclosed',\n",
       " 'Bangalore/Bengaluru',\n",
       " '0-2 Yrs',\n",
       " 'Not disclosed',\n",
       " 'Bangalore/Bengaluru',\n",
       " '0-1 Yrs',\n",
       " '50,000 - 70,000 PA.',\n",
       " 'Hyderabad/Secunderabad, Bangalore/Bengaluru',\n",
       " '0-5 Yrs',\n",
       " 'Not disclosed',\n",
       " 'Bangalore/Bengaluru',\n",
       " '0-2 Yrs',\n",
       " 'Not disclosed',\n",
       " 'Bangalore/Bengaluru',\n",
       " '5-8 Yrs',\n",
       " 'Not disclosed',\n",
       " 'Davangere, Bangalore/Bengaluru',\n",
       " '3-6 Yrs',\n",
       " 'Not disclosed',\n",
       " 'Davangere, Bangalore/Bengaluru',\n",
       " '6-10 Yrs',\n",
       " 'Not disclosed',\n",
       " 'Bangalore/Bengaluru',\n",
       " '8-13 Yrs',\n",
       " 'Not disclosed',\n",
       " 'Bangalore/Bengaluru',\n",
       " '4-7 Yrs',\n",
       " 'Not disclosed',\n",
       " 'Bangalore/Bengaluru',\n",
       " '3-5 Yrs',\n",
       " 'Not disclosed',\n",
       " 'Bangalore/Bengaluru',\n",
       " '5-6 Yrs',\n",
       " 'Not disclosed',\n",
       " 'Bengaluru/Bangalore',\n",
       " '0-4 Yrs',\n",
       " 'Not disclosed',\n",
       " 'Bangalore/Bengaluru',\n",
       " '5-8 Yrs',\n",
       " '10,00,000 - 20,00,000 PA.',\n",
       " 'Bangalore/Bengaluru(2nd Phase JP Nagar)',\n",
       " '1-4 Yrs',\n",
       " 'Not disclosed',\n",
       " 'Bangalore/Bengaluru',\n",
       " '3-7 Yrs',\n",
       " '5,00,000 - 15,00,000 PA.',\n",
       " 'Bangalore/Bengaluru',\n",
       " '2-3 Yrs',\n",
       " 'Not disclosed',\n",
       " 'Bangalore/Bengaluru',\n",
       " '7-10 Yrs',\n",
       " 'Not disclosed',\n",
       " 'Bangalore/Bengaluru',\n",
       " '4-5 Yrs',\n",
       " 'Not disclosed',\n",
       " 'Bangalore/Bengaluru']"
      ]
     },
     "execution_count": 23,
     "metadata": {},
     "output_type": "execute_result"
    }
   ],
   "source": [
    "# Extracting job location from Job location TAgs\n",
    "\n",
    "Job_location = []\n",
    "Job_location_List = []\n",
    "for jl in Job_Locationtags:\n",
    "    Job_location.append(jl.text)\n",
    "\n",
    "Job_location\n",
    "\n"
   ]
  },
  {
   "cell_type": "code",
   "execution_count": 25,
   "metadata": {},
   "outputs": [
    {
     "data": {
      "text/plain": [
       "['Hyderabad/Secunderabad, Chennai, Bangalore/Bengaluru',\n",
       " 'Bangalore/Bengaluru',\n",
       " 'Bangalore/Bengaluru',\n",
       " 'Hyderabad/Secunderabad, Bangalore/Bengaluru',\n",
       " 'Bangalore/Bengaluru',\n",
       " 'Bangalore/Bengaluru',\n",
       " 'Davangere, Bangalore/Bengaluru',\n",
       " 'Davangere, Bangalore/Bengaluru',\n",
       " 'Bangalore/Bengaluru',\n",
       " 'Bangalore/Bengaluru']"
      ]
     },
     "execution_count": 25,
     "metadata": {},
     "output_type": "execute_result"
    }
   ],
   "source": [
    "#Location extract\n",
    "Job_location_List = []\n",
    "for l in range(2,len(Job_location),3):\n",
    "    Job_location_List.append(Job_location[l])\n",
    "\n",
    "Final_JBList = Job_location_List[:10]\n",
    "Final_JBList"
   ]
  },
  {
   "cell_type": "code",
   "execution_count": 26,
   "metadata": {},
   "outputs": [
    {
     "data": {
      "text/plain": [
       "['Inflexion Analytix Private Limited',\n",
       " 'Dell International Services India Private Limited',\n",
       " 'Flipkart Internet Private Limited',\n",
       " 'Edubridgeindia',\n",
       " 'Siemens Limited',\n",
       " 'Bright Money',\n",
       " 'Schneider Electric India Pvt. Ltd.',\n",
       " 'Schneider Electric India Pvt. Ltd.',\n",
       " 'Philips India Limited',\n",
       " 'Allegis Services India Pvt. Ltd.']"
      ]
     },
     "execution_count": 26,
     "metadata": {},
     "output_type": "execute_result"
    }
   ],
   "source": [
    "# Company name Extraction\n",
    "Company_name = driver.find_elements_by_xpath('//a[@class = \"subTitle ellipsis fleft\"]')\n",
    "Company_name\n",
    "Company_name_list = []\n",
    "for cn in Company_name:\n",
    "    Company_name_list.append(cn.text)\n",
    "    \n",
    "Final_Company_name_list= Company_name_list[:10]\n",
    "Final_Company_name_list"
   ]
  },
  {
   "cell_type": "code",
   "execution_count": 27,
   "metadata": {},
   "outputs": [
    {
     "data": {
      "text/plain": [
       "['0-3 Yrs',\n",
       " '0-2 Yrs',\n",
       " '0-2 Yrs',\n",
       " '0-1 Yrs',\n",
       " '0-5 Yrs',\n",
       " '0-2 Yrs',\n",
       " '5-8 Yrs',\n",
       " '3-6 Yrs',\n",
       " '6-10 Yrs',\n",
       " '8-13 Yrs']"
      ]
     },
     "execution_count": 27,
     "metadata": {},
     "output_type": "execute_result"
    }
   ],
   "source": [
    "#Experience Rquired extract\n",
    "Experience_List = []\n",
    "for l in range(0,len(Job_location),3):\n",
    "    Experience_List.append(Job_location[l])\n",
    "\n",
    "Final_Experience_List = Experience_List[:10]\n",
    "Final_Experience_List"
   ]
  },
  {
   "cell_type": "code",
   "execution_count": 28,
   "metadata": {},
   "outputs": [
    {
     "data": {
      "text/html": [
       "<div>\n",
       "<style scoped>\n",
       "    .dataframe tbody tr th:only-of-type {\n",
       "        vertical-align: middle;\n",
       "    }\n",
       "\n",
       "    .dataframe tbody tr th {\n",
       "        vertical-align: top;\n",
       "    }\n",
       "\n",
       "    .dataframe thead th {\n",
       "        text-align: right;\n",
       "    }\n",
       "</style>\n",
       "<table border=\"1\" class=\"dataframe\">\n",
       "  <thead>\n",
       "    <tr style=\"text-align: right;\">\n",
       "      <th></th>\n",
       "      <th>Job Title</th>\n",
       "      <th>Job Location</th>\n",
       "      <th>Company Name</th>\n",
       "      <th>Experience Required</th>\n",
       "    </tr>\n",
       "  </thead>\n",
       "  <tbody>\n",
       "    <tr>\n",
       "      <th>1</th>\n",
       "      <td>Data Scientist / Data Analyst -Business Analyst</td>\n",
       "      <td>Hyderabad/Secunderabad, Chennai, Bangalore/Ben...</td>\n",
       "      <td>Inflexion Analytix Private Limited</td>\n",
       "      <td>0-3 Yrs</td>\n",
       "    </tr>\n",
       "    <tr>\n",
       "      <th>2</th>\n",
       "      <td>Network Design &amp; Data Analyst</td>\n",
       "      <td>Bangalore/Bengaluru</td>\n",
       "      <td>Dell International Services India Private Limited</td>\n",
       "      <td>0-2 Yrs</td>\n",
       "    </tr>\n",
       "    <tr>\n",
       "      <th>3</th>\n",
       "      <td>Consultant - Data Analyst</td>\n",
       "      <td>Bangalore/Bengaluru</td>\n",
       "      <td>Flipkart Internet Private Limited</td>\n",
       "      <td>0-2 Yrs</td>\n",
       "    </tr>\n",
       "    <tr>\n",
       "      <th>4</th>\n",
       "      <td>Software Developer / Web Developer/data analyst</td>\n",
       "      <td>Hyderabad/Secunderabad, Bangalore/Bengaluru</td>\n",
       "      <td>Edubridgeindia</td>\n",
       "      <td>0-1 Yrs</td>\n",
       "    </tr>\n",
       "    <tr>\n",
       "      <th>5</th>\n",
       "      <td>Data Analyst</td>\n",
       "      <td>Bangalore/Bengaluru</td>\n",
       "      <td>Siemens Limited</td>\n",
       "      <td>0-5 Yrs</td>\n",
       "    </tr>\n",
       "    <tr>\n",
       "      <th>6</th>\n",
       "      <td>Data Analyst</td>\n",
       "      <td>Bangalore/Bengaluru</td>\n",
       "      <td>Bright Money</td>\n",
       "      <td>0-2 Yrs</td>\n",
       "    </tr>\n",
       "    <tr>\n",
       "      <th>7</th>\n",
       "      <td>FTE - Regional BI - Functional Data Analyst</td>\n",
       "      <td>Davangere, Bangalore/Bengaluru</td>\n",
       "      <td>Schneider Electric India Pvt. Ltd.</td>\n",
       "      <td>5-8 Yrs</td>\n",
       "    </tr>\n",
       "    <tr>\n",
       "      <th>8</th>\n",
       "      <td>Deputy Manager - Data Analyst</td>\n",
       "      <td>Davangere, Bangalore/Bengaluru</td>\n",
       "      <td>Schneider Electric India Pvt. Ltd.</td>\n",
       "      <td>3-6 Yrs</td>\n",
       "    </tr>\n",
       "    <tr>\n",
       "      <th>9</th>\n",
       "      <td>Data Analyst CX</td>\n",
       "      <td>Bangalore/Bengaluru</td>\n",
       "      <td>Philips India Limited</td>\n",
       "      <td>6-10 Yrs</td>\n",
       "    </tr>\n",
       "    <tr>\n",
       "      <th>10</th>\n",
       "      <td>Data Analyst</td>\n",
       "      <td>Bangalore/Bengaluru</td>\n",
       "      <td>Allegis Services India Pvt. Ltd.</td>\n",
       "      <td>8-13 Yrs</td>\n",
       "    </tr>\n",
       "  </tbody>\n",
       "</table>\n",
       "</div>"
      ],
      "text/plain": [
       "                                         Job Title   \\\n",
       "1   Data Scientist / Data Analyst -Business Analyst   \n",
       "2                     Network Design & Data Analyst   \n",
       "3                         Consultant - Data Analyst   \n",
       "4   Software Developer / Web Developer/data analyst   \n",
       "5                                      Data Analyst   \n",
       "6                                      Data Analyst   \n",
       "7       FTE - Regional BI - Functional Data Analyst   \n",
       "8                     Deputy Manager - Data Analyst   \n",
       "9                                   Data Analyst CX   \n",
       "10                                     Data Analyst   \n",
       "\n",
       "                                         Job Location  \\\n",
       "1   Hyderabad/Secunderabad, Chennai, Bangalore/Ben...   \n",
       "2                                 Bangalore/Bengaluru   \n",
       "3                                 Bangalore/Bengaluru   \n",
       "4         Hyderabad/Secunderabad, Bangalore/Bengaluru   \n",
       "5                                 Bangalore/Bengaluru   \n",
       "6                                 Bangalore/Bengaluru   \n",
       "7                      Davangere, Bangalore/Bengaluru   \n",
       "8                      Davangere, Bangalore/Bengaluru   \n",
       "9                                 Bangalore/Bengaluru   \n",
       "10                                Bangalore/Bengaluru   \n",
       "\n",
       "                                         Company Name Experience Required  \n",
       "1                  Inflexion Analytix Private Limited             0-3 Yrs  \n",
       "2   Dell International Services India Private Limited             0-2 Yrs  \n",
       "3                   Flipkart Internet Private Limited             0-2 Yrs  \n",
       "4                                      Edubridgeindia             0-1 Yrs  \n",
       "5                                     Siemens Limited             0-5 Yrs  \n",
       "6                                        Bright Money             0-2 Yrs  \n",
       "7                  Schneider Electric India Pvt. Ltd.             5-8 Yrs  \n",
       "8                  Schneider Electric India Pvt. Ltd.             3-6 Yrs  \n",
       "9                               Philips India Limited            6-10 Yrs  \n",
       "10                   Allegis Services India Pvt. Ltd.            8-13 Yrs  "
      ]
     },
     "execution_count": 28,
     "metadata": {},
     "output_type": "execute_result"
    }
   ],
   "source": [
    "# DateFrame Creation for “Data Analyst” Job position in “Bangalore” location.\n",
    "\n",
    "Data_Bang_Frame = pd.DataFrame({\"Job Title \": Job_title_List ,\"Job Location\":Final_JBList ,\"Company Name\":Final_Company_name_list,\"Experience Required\":Final_Experience_List},index = range(1,len(Job_title_List)+1))\n",
    "Data_Bang_Frame"
   ]
  },
  {
   "cell_type": "markdown",
   "metadata": {},
   "source": [
    "### 2. Write a python program to scrape data for “Data Scientist” Job position in “Bangalore” location. You have to scrape the job-title, job-location,company_name, full job-description. You have to scrape first 10 jobs data."
   ]
  },
  {
   "cell_type": "code",
   "execution_count": 29,
   "metadata": {},
   "outputs": [
    {
     "data": {
      "text/plain": [
       "<selenium.webdriver.remote.webelement.WebElement (session=\"ad8db2c94b1f77e269817601991b952a\", element=\"aaf74901-fb00-43c3-80b4-f4873020f21b\")>"
      ]
     },
     "execution_count": 29,
     "metadata": {},
     "output_type": "execute_result"
    }
   ],
   "source": [
    "# Lets Connect to Web driver\n",
    "driver = webdriver.Chrome(r\"D:\\Project\\Web Driver\\chromedriver.exe\")\n",
    "url = 'https://www.naukri.com/'\n",
    "driver.get(url)\n",
    "Search_DS = driver.find_element_by_xpath(\"//input[@id = 'qsb-keyword-sugg']\")\n",
    "Search_DS"
   ]
  },
  {
   "cell_type": "code",
   "execution_count": 30,
   "metadata": {},
   "outputs": [],
   "source": [
    "Search_DS.send_keys(\"Data Scientist\")"
   ]
  },
  {
   "cell_type": "code",
   "execution_count": 31,
   "metadata": {},
   "outputs": [
    {
     "data": {
      "text/plain": [
       "<selenium.webdriver.remote.webelement.WebElement (session=\"ad8db2c94b1f77e269817601991b952a\", element=\"e6ad6f8a-d7fc-4e22-b0a9-82e17ac13ffe\")>"
      ]
     },
     "execution_count": 31,
     "metadata": {},
     "output_type": "execute_result"
    }
   ],
   "source": [
    "Search_DSLocation = driver.find_element_by_xpath(\"//input[@id = 'qsb-location-sugg']\")\n",
    "Search_DSLocation"
   ]
  },
  {
   "cell_type": "code",
   "execution_count": 32,
   "metadata": {},
   "outputs": [],
   "source": [
    "Search_DSLocation.send_keys(\"Bangalore\")"
   ]
  },
  {
   "cell_type": "code",
   "execution_count": 33,
   "metadata": {},
   "outputs": [],
   "source": [
    "Click_search = driver.find_element_by_xpath(\"//button[@class='btn']\")\n",
    "Click_search.click()"
   ]
  },
  {
   "cell_type": "code",
   "execution_count": 35,
   "metadata": {},
   "outputs": [
    {
     "data": {
      "text/plain": [
       "['https://www.naukri.com/job-listings-data-scientist-data-analyst-business-analyst-inflexion-analytix-private-limited-hyderabad-secunderabad-chennai-bangalore-bengaluru-0-to-3-years-020721003625?src=jobsearchDesk&sid=16256544474499416&xp=1&px=1',\n",
       " 'https://www.naukri.com/job-listings-sr-data-scientist-baker-hughes-incorporated-bangalore-bengaluru-3-to-7-years-060721500843?src=jobsearchDesk&sid=16256544474499416&xp=2&px=1',\n",
       " 'https://www.naukri.com/job-listings-sr-data-scientist-baker-hughes-the-network-bangalore-bengaluru-4-to-8-years-060721500839?src=jobsearchDesk&sid=16256544474499416&xp=3&px=1',\n",
       " 'https://www.naukri.com/job-listings-lead-data-scientist-alten-calsoft-labs-india-private-limited-bangalore-bengaluru-10-to-13-years-040621007518?src=jobsearchDesk&sid=16256544474499416&xp=4&px=1',\n",
       " 'https://www.naukri.com/job-listings-senior-lead-data-scientist-machine-learning-deep-learning-squareroot-consulting-pvt-ltd-bangalore-bengaluru-1-to-6-years-010320600083?src=jobsearchDesk&sid=16256544474499416&xp=5&px=1',\n",
       " 'https://www.naukri.com/job-listings-lead-data-scientist-machine-learning-data-mining-wrackle-technologies-pvt-ltd-bangalore-bengaluru-6-to-11-years-080221900886?src=jobsearchDesk&sid=16256544474499416&xp=6&px=1',\n",
       " 'https://www.naukri.com/job-listings-sr-data-scientist-multi-recruit-bangalore-bengaluru-5-to-7-years-060721004826?src=jobsearchDesk&sid=16256544474499416&xp=7&px=1',\n",
       " 'https://www.naukri.com/job-listings-data-scientist-fabhotel-aay-kay-model-town-bangalore-bengaluru-1-to-4-years-060721500918?src=jobsearchDesk&sid=16256544474499416&xp=8&px=1',\n",
       " 'https://www.naukri.com/job-listings-data-scientist-baker-hughes-the-network-bangalore-bengaluru-3-to-7-years-050721501490?src=jobsearchDesk&sid=16256544474499416&xp=9&px=1',\n",
       " 'https://www.naukri.com/job-listings-data-scientist-baker-hughes-incorporated-bangalore-bengaluru-2-to-6-years-050721500685?src=jobsearchDesk&sid=16256544474499416&xp=10&px=1']"
      ]
     },
     "execution_count": 35,
     "metadata": {},
     "output_type": "execute_result"
    }
   ],
   "source": [
    "Job_desc_urls = []\n",
    "urls = driver.find_elements_by_xpath('//a[@class =\"title fw500 ellipsis\"]')\n",
    "for ur in urls:\n",
    "    Job_desc_urls.append(ur.get_attribute('href'))\n",
    "Final_Job_desc_urls = Job_desc_urls[:10]\n",
    "Final_Job_desc_urls"
   ]
  },
  {
   "cell_type": "code",
   "execution_count": 36,
   "metadata": {},
   "outputs": [
    {
     "data": {
      "text/plain": [
       "['Data Scientist / Data Analyst -Business Analyst',\n",
       " 'Sr Data Scientist',\n",
       " 'Sr Data Scientist',\n",
       " 'Lead Data Scientist',\n",
       " 'Senior/Lead Data Scientist - Machine Learning/Deep Learning',\n",
       " 'Lead Data Scientist - Machine Learning/ Data Mining',\n",
       " 'Sr. Data Scientist',\n",
       " 'Data Scientist',\n",
       " 'Data Scientist',\n",
       " 'Data Scientist']"
      ]
     },
     "execution_count": 36,
     "metadata": {},
     "output_type": "execute_result"
    }
   ],
   "source": [
    "# Job Title Extract \n",
    "DS_Job_titletags = driver.find_elements_by_xpath(\"//a[@class='title fw500 ellipsis']\")\n",
    "\n",
    "# Extracting job title from Job title TAgs\n",
    "\n",
    "DS_Job_Title = []\n",
    "\n",
    "for i in DS_Job_titletags:\n",
    "    DS_Job_Title.append(i.text)\n",
    "\n",
    "DS_Job_title_List = DS_Job_Title[:10]\n",
    "DS_Job_title_List"
   ]
  },
  {
   "cell_type": "code",
   "execution_count": 37,
   "metadata": {},
   "outputs": [
    {
     "data": {
      "text/plain": [
       "['Hyderabad/Secunderabad, Chennai, Bangalore/Bengaluru',\n",
       " 'Bangalore/Bengaluru',\n",
       " 'Bangalore/Bengaluru',\n",
       " 'Bangalore/Bengaluru(Dairy Circle)',\n",
       " 'Bangalore/Bengaluru',\n",
       " 'Bangalore/Bengaluru',\n",
       " 'Bangalore/Bengaluru',\n",
       " 'Bangalore/Bengaluru',\n",
       " 'Bangalore/Bengaluru',\n",
       " 'Bangalore/Bengaluru']"
      ]
     },
     "execution_count": 37,
     "metadata": {},
     "output_type": "execute_result"
    }
   ],
   "source": [
    "# Job location tags\n",
    "DS_Job_Locationtags = driver.find_elements_by_xpath(\"//span[@class='ellipsis fleft fs12 lh16']\")\n",
    "\n",
    "# Extracting job location from Job location TAgs\n",
    "\n",
    "DS_Job_location = []\n",
    "DS_Job_location_List = []\n",
    "for jlds in DS_Job_Locationtags:\n",
    "    DS_Job_location.append(jlds.text)\n",
    "\n",
    "DS_Job_location\n",
    "#Location extract\n",
    "DS_Job_location_List = []\n",
    "for lds in range(2,len(DS_Job_location),3):\n",
    "    DS_Job_location_List.append(DS_Job_location[lds])\n",
    "\n",
    "DS_Final_JBList = DS_Job_location_List[:10]\n",
    "DS_Final_JBList"
   ]
  },
  {
   "cell_type": "code",
   "execution_count": 38,
   "metadata": {},
   "outputs": [
    {
     "data": {
      "text/plain": [
       "['Inflexion Analytix Private Limited',\n",
       " 'Baker Hughes Incorporated',\n",
       " 'Baker Hughes - The Network',\n",
       " 'ALTEN CALSOFT LABS (INDIA) PRIVATE LIMITED',\n",
       " 'Squareroot Consulting Pvt Ltd.',\n",
       " 'Wrackle Technologies Pvt Ltd',\n",
       " 'Multi Recruit',\n",
       " 'FabHotel Aay Kay Model Town',\n",
       " 'Baker Hughes - The Network',\n",
       " 'Baker Hughes Incorporated']"
      ]
     },
     "execution_count": 38,
     "metadata": {},
     "output_type": "execute_result"
    }
   ],
   "source": [
    "# Company name Extraction\n",
    "DS_Company_name = driver.find_elements_by_xpath('//a[@class = \"subTitle ellipsis fleft\"]')\n",
    "DS_Company_name_list = []\n",
    "for dscn in DS_Company_name:\n",
    "    DS_Company_name_list.append(dscn.text)\n",
    "    \n",
    "DS_Final_Company_name_list= DS_Company_name_list[:10]\n",
    "DS_Final_Company_name_list"
   ]
  },
  {
   "cell_type": "code",
   "execution_count": 41,
   "metadata": {},
   "outputs": [
    {
     "data": {
      "text/plain": [
       "[\"Job description Job description Job Role: Data Scientist/Data Analyst /Business Analyst Location: Chennai/Bangalore/Hyderabad Greetings from CAIA - Center for Artificial Intelligence & Advanced Analytics 43% of companies experienced a high deficit of skilled resources with Advanced Analytical skills and AI implementing capabilities in the year 2020. CAIA gives you a great opportunity to enter the world of future technologies and Innovations- Data Science, Analytics, AI, Data Visualization, and Cloud Computing. While 2020 was a year like no other, we are living in an interesting times where data is reshaping the world, and businesses are rapidly adopting technology to gain an edge over others. Hence, there's a substantial increase in demand for technology professionals who can implement systems in data science, machine learning, and AI in Tier 1 and Tier 2 organizations working closely with us. To help you build a sustainable career we would like you to utilize data, software and Analytical approaches in Data Science and AI to upskill and get recruited into an organization appreciating your skilling journey. Applications invited from all Freshers and experienced candidates (0-3 yrs) aspiring to make a career in Artificial Intelligence and Advanced Analytics and Data Science. If you wish to make a shift in your career or undergo a career transition, upskilling is essential since it allows you to learn more about the domain and acquire the required skills. Call to schedule interview Monday -Saturday from 10:00 am to 7 Pm Koodesh B- +91 73395 11107 Manigandan B - +91 93444 57360 Email : careerguidance.koodes@centerforaia.com manigandan@centerforaia.com What is needed from you? Freshers who wish to start their career in Analytics and AI and professionals who wish to upskill or change their domain to analytics and emerging technologies are free to apply. Educational background in any one of the following- BE/B.Tech, ME/M Tech, MSc, BSc/MSc Math's and Statistics, B Com, BCA, BSc CS, BSC IT, MSC IT, MCA Skills relating to Mathematics/Statistics. Natural passion towards numbers, business, coding, Analytics, and Artificial Intelligence, Machine Learning, visualization Good verbal and written communication skills Ability to understand domains in businesses across various sectors Selection procedure includes Aptitude Test & Communication Exam - Online / Offline SQL/Python test - Online / Offline Candidates who clear the above will have one-one discussions with our Career Guidance Manager for further evaluation and processing of your Resume. All the Shortlisted candidates will be eligible to continue the corporate training with CAIA What you can expect from us? You will get trained on the following modules for a period of 12-14 weeks: SQL & PLSQL Data Wrangling using Python Data Visualization Using Power-BI Statistics for Machine Learning Artificial Intelligence, Data Interpretation Supervised & Unsupervised Learning, NLP & Deep Learning Cloud Data Lake Business intelligence & Data Visualization Simulation Projects Expected Outcome? At the end of the Training you are expected to be well versed with the following: Analysis of large and complex data sets from multiple sources Development and evaluation of data analytics models, algorithms, and solutions Understanding/implementation of ML algorithms, performance tuning, and reporting Implementation of algorithms to mine targeted data and the ability to convert data into a business story Translation of business requirements into technical requirements; Data extraction, preparation, and transformation Identification, development, and implementation of statistical techniques and algorithms that address business challenges and adds value to the organization Requirement Analysis and communication of findings in the form of a meaningful story with the stakeholders Finding analytical solutions to abstract business issues. Apply objective analysis of facts before coming to a conclusion RoleData Analyst Industry TypeIT Services & Consulting Functional AreaAnalytics & Business Intelligence Employment TypeFull Time, Permanent Role CategoryAnalytics & BI Education UG :B.Sc/B.Sc(Hons) in Any Specialization, B.Com/B.Com(Hons) in Any Specialization, Any Graduate, B.Tech/BE in Any Specialization, BBA/BMS/BBM/BBS in Any Specialization, BCA in Any Specialization Key Skills Business IntelligencePower BiData WranglingArtificial IntelligenceBig DataITMachine LearningStatisticsAnalyticsDeep LearningBusiness AnalysisSQLData ScienceNLPCloud ComputingData AnalysisData VisualizationData WarehousingData AnalyticsETLPython\",\n",
       " 'Job description As as Senior Data Scientist, you will work in teams addressing statistical, machine learning and data understanding problems in a commercial technology and consultancy development environment. In this role, you will contribute to the development and deployment of modern machine learning, operational research, semantic analysis, and statistical methods for finding structure in large data sets. As a Sr Data Scientist, you will be responsible for: Designing and develop machine learning algorithms, software utilities, tools, data sets, and experiments to build AI models. Building solutions and delivering code from proof of concept to production-level maturity following agile development principles. Breaking down and understanding complex business problems, defining a solution, and implementing it using advanced quantitative methods. Keeping up to date with state-of-the-art machine learning literature and industry best practices for large-scale robust algorithm development. Documenting developments and results as needed for documentation, publications, patent submissions, and internal or external presentations. Collaborating with cross-functional teams across multiple offices and regions. Also, Work alongside software developers and software engineers to translate algorithms into commercially viable products and services. Unit-Testing for production quality code development and supporting end-to-end testing of delivered software components. Working in technical teams in development, deployment, and application of applied analytics, predictive analytics, and prescriptive analytics. Fuel your passion, To be successful in this role you will: Have bachelors in Computer Science or STEM Majors (Science, Technology, Engineering and Math). A minimum 4 yrs of professional experience. Have knowledge of advanced statistical techniques and concepts (regression, properties of distributions, statistical tests, and proper usage, etc.) and experience with applications. Experience in Machine Learning/AI techniques including Deep learning (RNN, CNN, GAN, etc.), Support Vector Machines; Regularization Techniques; Boosting, Random Forests, Ensemble Methods, image/video/audio processing, Bayesian statistics, and time series modelling. Have extensive applied experience with Reinforcement Learning is desired. Have experience in developing and deploying machine learning solutions in cloud environments like AWS, Azure, and GCP. Have developed containerized solutions (Docker, Mesos, etc.). Have solid programming skills for data sciences and numerical computing: Python, R, and SQL and ability to work with a variety of deep learning frameworks including TensorFlow, Keras, Caffe, etc. Have hands-on skills in sourcing, manipulating, and analysing large volumes of data including SQL and NoSQL databases. RoleSoftware Developer Industry TypePower Functional AreaIT Software - System Programming Employment TypeFull Time, Permanent Role CategoryProgramming & Design Education UG :B.Sc/B.Sc(Hons) in Chemistry PG :Any Postgraduate Key Skills Computer sciencedeep learningNoSQLGCPMachine learningAlgorithm developmentUnit testingSQLPython',\n",
       " 'Job description As as Senior Data Scientist, you will work in teams addressing statistical, machine learning and data understanding problems in a commercial technology and consultancy development environment. In this role, you will contribute to the development and deployment of modern machine learning, operational research, semantic analysis, and statistical methods for finding structure in large data sets. As a Sr Data Scientist, you will be responsible for: Designing and develop machine learning algorithms, software utilities, tools, data sets, and experiments to build AI models. Building solutions and delivering code from proof of concept to production-level maturity following agile development principles. Breaking down and understanding complex business problems, defining a solution, and implementing it using advanced quantitative methods. Keeping up to date with state-of-the-art machine learning literature and industry best practices for large-scale robust algorithm development. Documenting developments and results as needed for documentation, publications, patent submissions, and internal or external presentations. Collaborating with cross-functional teams across multiple offices and regions. Also, Work alongside software developers and software engineers to translate algorithms into commercially viable products and services. Unit-Testing for production quality code development and supporting end-to-end testing of delivered software components. Working in technical teams in development, deployment, and application of applied analytics, predictive analytics, and prescriptive analytics. Fuel your passion, To be successful in this role you will: Have bachelors in Computer Science or STEM Majors (Science, Technology, Engineering and Math). A minimum 4 yrs of professional experience. Have knowledge of advanced statistical techniques and concepts (regression, properties of distributions, statistical tests, and proper usage, etc.) and experience with applications. Experience in Machine Learning/AI techniques including Deep learning (RNN, CNN, GAN, etc.), Support Vector Machines; Regularization Techniques; Boosting, Random Forests, Ensemble Methods, image/video/audio processing, Bayesian statistics, and time series modelling. Have extensive applied experience with Reinforcement Learning is desired. Have experience in developing and deploying machine learning solutions in cloud environments like AWS, Azure, and GCP. Have developed containerized solutions (Docker, Mesos, etc.). Have solid programming skills for data sciences and numerical computing: Python, R, and SQL and ability to work with a variety of deep learning frameworks including TensorFlow, Keras, Caffe, etc. Have hands-on skills in sourcing, manipulating, and analysing large volumes of data including SQL and NoSQL databases. RoleSoftware Developer Industry TypePower Functional AreaIT Software - System Programming Employment TypeFull Time, Permanent Role CategoryProgramming & Design Education UG :B.Sc/B.Sc(Hons) in Chemistry PG :Any Postgraduate Key Skills Computer sciencedeep learningNoSQLGCPMachine learningAlgorithm developmentUnit testingSQLPython',\n",
       " \"Job description ROLES AND RESPONSIBILITIES: Participate in customer workshops to understand customer problems and design solutions with Advanced Analytics Define Advanced Analytics Use Cases and Implementation Roadmap Build Prototypes, POCs and Production ready Data Science applications Support and enhance Data Science Models/Applications Manage customer relationship and drive account growth initiatives Collaborate with Partners for understanding the trends and new solutions and presenting the same to the customers and sales SKILLS AND QUALIFICATIONS: Overall, 10 to 12 yrs. of exp in solving customer problems with Data and 7-8 years of experience as Data Scientist for Life Sciences, Health Care and FMCG Deep understanding and minimum 5 years of hands-on experience in developing models using Machine Learning and Deep Learning related technologies (such as Keras, TensorFlow, pyTorch, Azure ML, AWS ML, Jupiter, MATLAB, etc.) Strong programming skills in one or more scripting languages like R, Python) Experience with Data Visualization tools like Tableau, Microsoft Power BI and SiSense Exposure to working on AI/Data Science/Analytics platforms like SAS, Microsoft AI, Amazon AI, IBM WATSON, H20, Strong business acumen to understand business objectives & dynamics and possess excellent written and verbal communication skills for coordinating across teams Experience with common data science toolkits, such as Python, R, Weka, NumPy, MATLAB, etc Proficient in algorithms on regression modelling (linear/logistic), supervised and unsupervised classification, tree-based techniques (Decision trees /Random forest), neural nets, bagging, Pattern Mining and boosting techniques, etc. Strong hold of concepts in Statistics and expertise in Machine Logs Processing, text mining and text analytics Master's degree in Statistics, Applied Math, Operations Research, Economics, or a related quantitative field with working experience as a Data Scientist RoleTechnical Architect Industry TypeIT Services & Consulting Functional AreaIT Software - Application Programming, Maintenance Employment TypeFull Time, Permanent Role CategoryProgramming & Design Education UG :Any Graduate Key Skills Data ScienceArtificial IntelligenceText AnalyticsTableauMachine LearningDeep LearningPython\",\n",
       " 'Job description Roles and Responsibilities Hiring for US based Start-up AI Fintech which is building Digital Banking platform for North American region. Experience for the Role : Data Scientist (1+ Yrs) & Senior/ Lead Data Scientist (3+ Yrs) Location : Bangalore (HSR Layout) Looking expert machine learning and a statistical mastermind and who are keen to make a difference in a unique way. We expect a Data Scientist & ML Engineer to take the onus of creating and leveraging the state-of-the-art algorithms in machine learning, deep learning and AI which will impact billions of people. Main Responsibilities : As an ML Engineer / Data Scientist, you will work on cutting edge problems in Natural Language Processing using Deep Learning. - Perform exploratory data analysis to understand the problem - Implement and experiment with different features and architectures for Deep-Learning models for NLP - Do literature review and come up with possible solutions - Do visualisation for understanding the problem and showcasing models - Make the model faster for real-time predictions - Build tools to help the team build models and deploy them What We are looking: - B.Tech, M.Tech or Ph.D in Computer Science or equivalent work experience - Knowledgeable on common data structures and algorithms - Knowledgeable in one or more of the following : Machine Learning / Information Retrieval / Deep Learning / NLP - 1 to 5 year experience working with real world datasets - Strong interest in solving real world problems in Machine Learning - Programming experience (in any programming language) is a must - Good familiarity with Python and its scientific computing / ML ecosystem is preferable. RoleSoftware Developer Industry TypeInternet Functional AreaIT Software - eCommerce, Internet Technologies Employment TypeFull Time, Permanent Role CategoryProgramming & Design Education UG :Any Graduate PG :Any Postgraduate Doctorate :Any Doctorate Key Skills VisualizationExploratory TestingMachine LearningPHDDeep Learning.Data StructureNLPAlgorithmsIITData ScientistData AnalyticsStartup',\n",
       " 'Job description Roles and Responsibilities Requirements : - 6-9 years of strong experience in data mining, machine learning and statistical analysis. - BS/ MS/ PhD in Computer Science, Statistics, Applied Math, or related areas from Premier institutes ( only IITs / IISc / BITS / Top NITs or top US university should apply) - Ability to lead and deliver in a fast-paced start-up environment. - Fluency in tools such as Python/ R/ Matlab etc. - Strong intuition for data and Keen aptitude on large scale data analysis - Excellent written and verbal communication skills. - Ability to collaborate across teams and strong interpersonal skills. RoleData Analyst Industry TypeIT Services & Consulting Functional AreaAnalytics & Business Intelligence Employment TypeFull Time, Permanent Role CategoryAnalytics & BI Education UG :B.Sc/B.Sc(Hons) in Computers, Statistics PG :M.Sc/MS in Computers, Statistics Doctorate :Ph.D/Doctorate in Statistics, Computers, Other Doctorate Key Skills Data ScienceRData ScientistData MiningStatistical AnalystMachine LearningMATLABPython',\n",
       " \"Job description Actively engage with internal business teams to understand their challenges and deliver robust, data-driven solutions. Work alongside global counterparts to solve data-intensive problems using standard analytical frameworks and tools. Be encouraged and expected to innovate and be creative in your data analysis, problem-solving, and presentation of solutions. Network and collaborate with a broad range of internal business units to define and deliver joint solutions. Work alongside customers to leverage cutting-edge technology (machine learning, streaming analytics, and real big data) to creatively solve problems and disrupt existing business models. In this role, we are looking for: A problem-solving mindset with the ability to understand business challenges and how to apply your analytics expertise to solve them. The unique person who can present complex mathematical solutions in a simple manner that most will understand, including customers. An individual excited by innovation and new technology and eager to finds ways to employ these innovations in practice. A team mentality, empowered by the ability to work with a diverse set of individuals. Basic Qualifications A Bachelors's degree in Data Science, Math, Statistics, Computer Science, or related field with an emphasis on analytics. 5+ Years professional experience in a data scientist/analyst role or similar. Proficiency in your statistics/analytics/visualization tool of choice, but preferably in the Microsoft Azure Suite, including Azure ML Studio and PowerBI as well as R, Python, SQL. Preferred Qualifications Excellent communication, organizational transformation, and leadership skills Demonstrated excellence in Data Science, Business Analytics, and Engineering RoleData Analyst Industry TypeChemicals Functional AreaAnalytics & Business Intelligence Employment TypeFull Time, Permanent Role CategoryAnalytics & BI Education UG :B.Tech/BE in Any Specialization Key Skills Data scientistPower BiMachine LearningPythonSQL\",\n",
       " 'Job description As a Data Scientist, you would be working with subject matter experts in energy production. You will help in building models on reliability, predictive analysis, production optimizations and other interesting industry problems. As a Data Scientist, you will be responsible for: Contributing in development and deployment of applied, predictive and prescriptive analytics. Develop self-learning systems that can predict failures and autocorrect based on data Gathering analysing data, devising data science solutions for high-performance models in scalable code. Propose innovative algorithms and pursue patents where appropriate. Working with engineering teams to incorporate solutions and create intuitive UX stories. Partner with data engineers on data quality assessment, cleansing and analytics. Researching and evaluating emerging technology and market trends to assist in project development and operational support for multiple teams or complex scenarios. Contributing to the development of software and data delivery platforms that are service-oriented with reusable components across multiple teams. Creating reports and other artifacts to document your work and outcomes. Communicating methods, findings, and hypotheses with stakeholders. Fuel your passion To be successful in this role you will: Have a Bachelor s Degree in Computer Science or in STEM, Majors. 3+ years as data scientist and technical hands-on coding experience. Have experience in Machine Learning/AI techniques including Deep learning (RNN, CNN, GAN, etc), Support Vector Machines; Regularization Techniques; Boosting, Random Forests, Ensemble Methods, image/video/audio processing, Bayesian and time series modelling. Have experience in Parallel programming frameworks for GPUs, TPUs and developed containerized solutions (Docker/Mesos etc). Have good implementation experience with R, Python, Perl, Ruby, Scala, Apache Spark, Storm, SAS and ability to work with a variety of Deep learning frameworks including TensorFlow, Keras, Caffe, CNTK, etc Have hands-on skills in sourcing, manipulating and analysing large volumes of data including SQL and NoSQL databases Have proven experience in using well-established supervised and unsupervised machine learning methods for large industry-strength data analysis problems. Reviews, analyses and develops architectural requirements at domain level, aligning architectural requirements with software development strategy. Leads and facilitates the domains architecture governance process based on EAs governance structure. RoleClinical Research Associate/Scientist Industry TypeTravel & Tourism Functional AreaMedical, Healthcare, R&D, Pharmaceuticals, Biotechnology Employment TypeFull Time, Permanent Role CategoryR&D Education UG :Any Graduate PG :Any Postgraduate Key Skills Computer scienceData analysisSASCodingMachine learningPerlRubyAnalyticsSQLPython',\n",
       " 'Job description  Contributing in development and deployment of applied, predictive and prescriptive analytics. Develop self-learning systems that can predict failures and autocorrect based on data Gathering analysing data, devising data science solutions for high-performance models in scalable code. Propose innovative algorithms and pursue patents where appropriate. Working with engineering teams to incorporate solutions and create intuitive UX stories. Partner with data engineers on data quality assessment, cleansing and analytics. Researching and evaluating emerging technology and market trends to assist in project development and operational support for multiple teams or complex scenarios. Contributing to the development of software and data delivery platforms that are service-oriented with reusable components across multiple teams. Creating reports and other artifacts to document your work and outcomes. Communicating methods, findings, and hypotheses with stakeholders. Fuel your passion To be successful in this role you will: Have a Bachelor s Degree in Computer Science or in STEM, Majors. 3+ years as data scientist and technical hands-on coding experience. Have experience in Machine Learning/AI techniques including Deep learning (RNN, CNN, GAN, etc), Support Vector Machines; Regularization Techniques; Boosting, Random Forests, Ensemble Methods, image/video/audio processing, Bayesian and time series modelling. Have experience in Parallel programming frameworks for GPUs, TPUs and developed containerized solutions (Docker/Mesos etc). Have good implementation experience with R, Python, Perl, Ruby, Scala, Apache Spark, Storm, SAS and ability to work with a variety of Deep learning frameworks including TensorFlow, Keras, Caffe, CNTK, etc Have hands-on skills in sourcing, manipulating and analysing large volumes of data including SQL and NoSQL databases Have proven experience in using well-established supervised and unsupervised machine learning methods for large industry-strength data analysis problems. Reviews, analyses and develops architectural requirements at domain level, aligning architectural requirements with software development strategy. Leads and facilitates the domains architecture governance process based on EAs governance structure. RoleClinical Research Associate/Scientist Industry TypePower Functional AreaMedical, Healthcare, R&D, Pharmaceuticals, Biotechnology Employment TypeFull Time, Permanent Role CategoryR&D Education UG :Any Graduate PG :Post Graduation Not Required Key Skills Computer scienceData analysisSASCodingMachine learningPerlRubyAnalyticsSQLPython',\n",
       " 'Job description As a Data Scientist, you would be working with subject matter experts in energy production. You will help in building models on reliability, predictive analysis, production optimizations and other interesting industry problems. As a Data Scientist, you will be responsible for: Contributing in development and deployment of applied, predictive and prescriptive analytics. Develop self-learning systems that can predict failures and autocorrect based on data Gathering analysing data, devising data science solutions for high-performance models in scalable code. Propose innovative algorithms and pursue patents where appropriate. Working with engineering teams to incorporate solutions and create intuitive UX stories. Partner with data engineers on data quality assessment, cleansing and analytics. Researching and evaluating emerging technology and market trends to assist in project development and operational support for multiple teams or complex scenarios. Contributing to the development of software and data delivery platforms that are service-oriented with reusable components across multiple teams. Creating reports and other artifacts to document your work and outcomes. Communicating methods, findings, and hypotheses with stakeholders. Fuel your passion To be successful in this role you will: Have a Bachelor s Degree in Computer Science or in STEM, Majors. 3+ years as data scientist and technical hands-on coding experience. Have experience in Machine Learning/AI techniques including Deep learning (RNN, CNN, GAN, etc), Support Vector Machines; Regularization Techniques; Boosting, Random Forests, Ensemble Methods, image/video/audio processing, Bayesian and time series modelling. Have experience in Parallel programming frameworks for GPUs, TPUs and developed containerized solutions (Docker/Mesos etc). Have good implementation experience with R, Python, Perl, Ruby, Scala, Apache Spark, Storm, SAS and ability to work with a variety of Deep learning frameworks including TensorFlow, Keras, Caffe, CNTK, etc Have hands-on skills in sourcing, manipulating and analysing large volumes of data including SQL and NoSQL databases Have proven experience in using well-established supervised and unsupervised machine learning methods for large industry-strength data analysis problems. Reviews, analyses and develops architectural requirements at domain level, aligning architectural requirements with software development strategy. Leads and facilitates the domains architecture governance process based on EAs governance structure. RoleClinical Research Associate/Scientist Industry TypePower Functional AreaMedical, Healthcare, R&D, Pharmaceuticals, Biotechnology Employment TypeFull Time, Permanent Role CategoryR&D Education UG :Any Graduate PG :Any Postgraduate Key Skills Computer scienceData analysisSASCodingMachine learningPerlRubyAnalyticsSQLPython']"
      ]
     },
     "execution_count": 41,
     "metadata": {},
     "output_type": "execute_result"
    }
   ],
   "source": [
    "# Job Description Extract\n",
    "Job_Desc_List = []\n",
    "for jd in Final_Job_desc_urls:\n",
    "    driver.get(jd)\n",
    "    try:\n",
    "        job_desc = driver.find_element_by_xpath('//section[@class =\"job-desc\"]')\n",
    "        Job_Desc_List.append(job_desc.text.replace(\"\\n\",\" \").replace(\"  \",\" \"))\n",
    "    except:\n",
    "        pass\n",
    "Job_Desc_List"
   ]
  },
  {
   "cell_type": "code",
   "execution_count": 45,
   "metadata": {},
   "outputs": [
    {
     "data": {
      "text/html": [
       "<div>\n",
       "<style scoped>\n",
       "    .dataframe tbody tr th:only-of-type {\n",
       "        vertical-align: middle;\n",
       "    }\n",
       "\n",
       "    .dataframe tbody tr th {\n",
       "        vertical-align: top;\n",
       "    }\n",
       "\n",
       "    .dataframe thead th {\n",
       "        text-align: right;\n",
       "    }\n",
       "</style>\n",
       "<table border=\"1\" class=\"dataframe\">\n",
       "  <thead>\n",
       "    <tr style=\"text-align: right;\">\n",
       "      <th></th>\n",
       "      <th>Job Title</th>\n",
       "      <th>Job Location</th>\n",
       "      <th>Company Name</th>\n",
       "      <th>Job Description</th>\n",
       "    </tr>\n",
       "  </thead>\n",
       "  <tbody>\n",
       "    <tr>\n",
       "      <th>1</th>\n",
       "      <td>Data Scientist / Data Analyst -Business Analyst</td>\n",
       "      <td>Hyderabad/Secunderabad, Chennai, Bangalore/Ben...</td>\n",
       "      <td>Inflexion Analytix Private Limited</td>\n",
       "      <td>Job description Job description Job Role: Data...</td>\n",
       "    </tr>\n",
       "    <tr>\n",
       "      <th>2</th>\n",
       "      <td>Sr Data Scientist</td>\n",
       "      <td>Bangalore/Bengaluru</td>\n",
       "      <td>Baker Hughes Incorporated</td>\n",
       "      <td>Job description As as Senior Data Scientist, y...</td>\n",
       "    </tr>\n",
       "    <tr>\n",
       "      <th>3</th>\n",
       "      <td>Sr Data Scientist</td>\n",
       "      <td>Bangalore/Bengaluru</td>\n",
       "      <td>Baker Hughes - The Network</td>\n",
       "      <td>Job description As as Senior Data Scientist, y...</td>\n",
       "    </tr>\n",
       "    <tr>\n",
       "      <th>4</th>\n",
       "      <td>Lead Data Scientist</td>\n",
       "      <td>Bangalore/Bengaluru(Dairy Circle)</td>\n",
       "      <td>ALTEN CALSOFT LABS (INDIA) PRIVATE LIMITED</td>\n",
       "      <td>Job description ROLES AND RESPONSIBILITIES: Pa...</td>\n",
       "    </tr>\n",
       "    <tr>\n",
       "      <th>5</th>\n",
       "      <td>Senior/Lead Data Scientist - Machine Learning/...</td>\n",
       "      <td>Bangalore/Bengaluru</td>\n",
       "      <td>Squareroot Consulting Pvt Ltd.</td>\n",
       "      <td>Job description Roles and Responsibilities Hir...</td>\n",
       "    </tr>\n",
       "    <tr>\n",
       "      <th>6</th>\n",
       "      <td>Lead Data Scientist - Machine Learning/ Data M...</td>\n",
       "      <td>Bangalore/Bengaluru</td>\n",
       "      <td>Wrackle Technologies Pvt Ltd</td>\n",
       "      <td>Job description Roles and Responsibilities Req...</td>\n",
       "    </tr>\n",
       "    <tr>\n",
       "      <th>7</th>\n",
       "      <td>Sr. Data Scientist</td>\n",
       "      <td>Bangalore/Bengaluru</td>\n",
       "      <td>Multi Recruit</td>\n",
       "      <td>Job description Actively engage with internal ...</td>\n",
       "    </tr>\n",
       "    <tr>\n",
       "      <th>8</th>\n",
       "      <td>Data Scientist</td>\n",
       "      <td>Bangalore/Bengaluru</td>\n",
       "      <td>FabHotel Aay Kay Model Town</td>\n",
       "      <td>Job description As a Data Scientist, you would...</td>\n",
       "    </tr>\n",
       "    <tr>\n",
       "      <th>9</th>\n",
       "      <td>Data Scientist</td>\n",
       "      <td>Bangalore/Bengaluru</td>\n",
       "      <td>Baker Hughes - The Network</td>\n",
       "      <td>Job description  Contributing in development a...</td>\n",
       "    </tr>\n",
       "    <tr>\n",
       "      <th>10</th>\n",
       "      <td>Data Scientist</td>\n",
       "      <td>Bangalore/Bengaluru</td>\n",
       "      <td>Baker Hughes Incorporated</td>\n",
       "      <td>Job description As a Data Scientist, you would...</td>\n",
       "    </tr>\n",
       "  </tbody>\n",
       "</table>\n",
       "</div>"
      ],
      "text/plain": [
       "                                           Job Title   \\\n",
       "1     Data Scientist / Data Analyst -Business Analyst   \n",
       "2                                   Sr Data Scientist   \n",
       "3                                   Sr Data Scientist   \n",
       "4                                 Lead Data Scientist   \n",
       "5   Senior/Lead Data Scientist - Machine Learning/...   \n",
       "6   Lead Data Scientist - Machine Learning/ Data M...   \n",
       "7                                  Sr. Data Scientist   \n",
       "8                                      Data Scientist   \n",
       "9                                      Data Scientist   \n",
       "10                                     Data Scientist   \n",
       "\n",
       "                                         Job Location  \\\n",
       "1   Hyderabad/Secunderabad, Chennai, Bangalore/Ben...   \n",
       "2                                 Bangalore/Bengaluru   \n",
       "3                                 Bangalore/Bengaluru   \n",
       "4                   Bangalore/Bengaluru(Dairy Circle)   \n",
       "5                                 Bangalore/Bengaluru   \n",
       "6                                 Bangalore/Bengaluru   \n",
       "7                                 Bangalore/Bengaluru   \n",
       "8                                 Bangalore/Bengaluru   \n",
       "9                                 Bangalore/Bengaluru   \n",
       "10                                Bangalore/Bengaluru   \n",
       "\n",
       "                                  Company Name  \\\n",
       "1           Inflexion Analytix Private Limited   \n",
       "2                    Baker Hughes Incorporated   \n",
       "3                   Baker Hughes - The Network   \n",
       "4   ALTEN CALSOFT LABS (INDIA) PRIVATE LIMITED   \n",
       "5               Squareroot Consulting Pvt Ltd.   \n",
       "6                 Wrackle Technologies Pvt Ltd   \n",
       "7                                Multi Recruit   \n",
       "8                  FabHotel Aay Kay Model Town   \n",
       "9                   Baker Hughes - The Network   \n",
       "10                   Baker Hughes Incorporated   \n",
       "\n",
       "                                      Job Description  \n",
       "1   Job description Job description Job Role: Data...  \n",
       "2   Job description As as Senior Data Scientist, y...  \n",
       "3   Job description As as Senior Data Scientist, y...  \n",
       "4   Job description ROLES AND RESPONSIBILITIES: Pa...  \n",
       "5   Job description Roles and Responsibilities Hir...  \n",
       "6   Job description Roles and Responsibilities Req...  \n",
       "7   Job description Actively engage with internal ...  \n",
       "8   Job description As a Data Scientist, you would...  \n",
       "9   Job description  Contributing in development a...  \n",
       "10  Job description As a Data Scientist, you would...  "
      ]
     },
     "execution_count": 45,
     "metadata": {},
     "output_type": "execute_result"
    }
   ],
   "source": [
    "# DataFrame for Datascientist :\n",
    "\n",
    "DS_Data_Bang_Frame = pd.DataFrame({\"Job Title \": DS_Job_title_List ,\"Job Location\": DS_Final_JBList ,\"Company Name\":DS_Final_Company_name_list,\"Job Description\": Job_Desc_List},index = range(1,len(DS_Final_JBList)+1))\n",
    "DS_Data_Bang_Frame\n"
   ]
  },
  {
   "cell_type": "markdown",
   "metadata": {},
   "source": [
    "### Q3: In this question you have to scrape data using the filters available on the webpage:"
   ]
  },
  {
   "cell_type": "code",
   "execution_count": 48,
   "metadata": {},
   "outputs": [],
   "source": [
    "driver = webdriver.Chrome(r\"D:\\Project\\Web Driver\\chromedriver.exe\")\n",
    "url = 'https://www.naukri.com/'\n",
    "driver.get(url)"
   ]
  },
  {
   "cell_type": "code",
   "execution_count": 50,
   "metadata": {},
   "outputs": [],
   "source": [
    "Filter_DS = driver.find_element_by_id(\"qsb-keyword-sugg\")\n",
    "Filter_DS.send_keys(\"Data Scientist\")"
   ]
  },
  {
   "cell_type": "code",
   "execution_count": 51,
   "metadata": {},
   "outputs": [],
   "source": [
    "Click_search = driver.find_element_by_xpath(\"//button[@class='btn']\")\n",
    "Click_search.click()"
   ]
  },
  {
   "cell_type": "code",
   "execution_count": 55,
   "metadata": {},
   "outputs": [],
   "source": [
    "Filter_click_NCR = driver.find_element_by_xpath('/html/body/div[1]/div[3]/div[2]/section[1]/div[2]/div[2]/div[2]/div[2]/label/p')\n",
    "Filter_click_NCR.click()"
   ]
  },
  {
   "cell_type": "code",
   "execution_count": 57,
   "metadata": {},
   "outputs": [],
   "source": [
    "Filter_click_Salary = driver.find_element_by_xpath('/html/body/div[1]/div[3]/div[2]/section[1]/div[2]/div[3]/div[2]/div[2]/label/p')\n",
    "Filter_click_Salary.click()"
   ]
  },
  {
   "cell_type": "code",
   "execution_count": 58,
   "metadata": {},
   "outputs": [
    {
     "data": {
      "text/plain": [
       "['Data Scientist/Data Analyst /Business Analyst',\n",
       " 'Only Fresher / Data Scientist / Data Analyst / Analytics - MNC Jobs',\n",
       " 'Data Scientist - Machine Learning/ NLP',\n",
       " 'Data Scientist || Python || C2H',\n",
       " 'Data Scientist || Python || C2H',\n",
       " 'Advanced Analytics -Data Scientist',\n",
       " 'Data Scientist (Early Joiner)',\n",
       " 'Data analytics / Data scientist intern (work from Home)',\n",
       " 'Chaayos is Looking For Data Scientist',\n",
       " 'Data Scientist']"
      ]
     },
     "execution_count": 58,
     "metadata": {},
     "output_type": "execute_result"
    }
   ],
   "source": [
    "# Job Title Extract \n",
    "Filter_Job_titletags = driver.find_elements_by_xpath(\"//a[@class='title fw500 ellipsis']\")\n",
    "\n",
    "# Extracting job title from Job title TAgs\n",
    "\n",
    "Filter_Job_Title = []\n",
    "\n",
    "for fjl in Filter_Job_titletags:\n",
    "    Filter_Job_Title.append(fjl.text)\n",
    "\n",
    "Filter_Job_title_List = Filter_Job_Title[:10]\n",
    "Filter_Job_title_List"
   ]
  },
  {
   "cell_type": "code",
   "execution_count": 59,
   "metadata": {},
   "outputs": [
    {
     "data": {
      "text/plain": [
       "['Pune, Delhi / NCR, Mumbai (All Areas)',\n",
       " 'Noida, Greater Noida, Delhi / NCR',\n",
       " 'Gurgaon/Gurugram',\n",
       " 'Noida, Kolkata, Gurgaon/Gurugram, Bangalore/Bengaluru',\n",
       " 'Noida, Kolkata, Gurgaon/Gurugram, Bangalore/Bengaluru',\n",
       " 'New Delhi, Hyderabad/Secunderabad',\n",
       " 'Noida(Sector-59 Noida)',\n",
       " 'Kolkata, Bangalore/Bengaluru, Delhi / NCR',\n",
       " 'New Delhi',\n",
       " 'Mumbai, Gurgaon/Gurugram, Bangalore/Bengaluru']"
      ]
     },
     "execution_count": 59,
     "metadata": {},
     "output_type": "execute_result"
    }
   ],
   "source": [
    "# Job location tags\n",
    "Filter_Job_Locationtags = driver.find_elements_by_xpath(\"//span[@class='ellipsis fleft fs12 lh16']\")\n",
    "\n",
    "# Extracting job location from Job location TAgs\n",
    "\n",
    "Filter_Job_location = []\n",
    "Filter_Job_location_List = []\n",
    "for fjlds in Filter_Job_Locationtags:\n",
    "    Filter_Job_location.append(fjlds.text)\n",
    "\n",
    "Filter_Job_location\n",
    "#Location extract\n",
    "Filter_Job_location_List = []\n",
    "for flds in range(2,len(Filter_Job_location),3):\n",
    "    Filter_Job_location_List.append(Filter_Job_location[flds])\n",
    "\n",
    "Filter_Final_JBList = Filter_Job_location_List[:10]\n",
    "Filter_Final_JBList"
   ]
  },
  {
   "cell_type": "code",
   "execution_count": 60,
   "metadata": {},
   "outputs": [
    {
     "data": {
      "text/plain": [
       "['Inflexion Analytix Private Limited',\n",
       " 'GABA Consultancy services',\n",
       " 'TalPro',\n",
       " 'Growel Softech Pvt. Ltd.',\n",
       " 'Growel Softech Pvt. Ltd.',\n",
       " 'ERM Placement Services (P) Ltd.',\n",
       " 'R Systems International Ltd.',\n",
       " 'TalkValley LLC',\n",
       " 'Chaayos (Sunshine Teahouse Pvt. Ltd.)',\n",
       " 'Fractal Analytics']"
      ]
     },
     "execution_count": 60,
     "metadata": {},
     "output_type": "execute_result"
    }
   ],
   "source": [
    "# Company name Extraction\n",
    "Filter_Company_name = driver.find_elements_by_xpath('//a[@class = \"subTitle ellipsis fleft\"]')\n",
    "Filter_Company_name_list = []\n",
    "for fdscn in Filter_Company_name:\n",
    "    Filter_Company_name_list.append(fdscn.text)\n",
    "    \n",
    "Filter_Final_Company_name_list= Filter_Company_name_list[:10]\n",
    "Filter_Final_Company_name_list"
   ]
  },
  {
   "cell_type": "code",
   "execution_count": 61,
   "metadata": {},
   "outputs": [
    {
     "data": {
      "text/plain": [
       "['0-3 Yrs',\n",
       " '0-0 Yrs',\n",
       " '2-6 Yrs',\n",
       " '4-6 Yrs',\n",
       " '4-6 Yrs',\n",
       " '3-7 Yrs',\n",
       " '4-8 Yrs',\n",
       " '0-5 Yrs',\n",
       " '0-5 Yrs',\n",
       " '3-7 Yrs']"
      ]
     },
     "execution_count": 61,
     "metadata": {},
     "output_type": "execute_result"
    }
   ],
   "source": [
    "#Experience Rquired extract\n",
    "Filter_Experience_List = []\n",
    "for fl in range(0,len(Filter_Job_location),3):\n",
    "    Filter_Experience_List.append(Filter_Job_location[fl])\n",
    "\n",
    "Filter_Final_Experience_List = Filter_Experience_List[:10]\n",
    "Filter_Final_Experience_List"
   ]
  },
  {
   "cell_type": "code",
   "execution_count": 62,
   "metadata": {},
   "outputs": [
    {
     "data": {
      "text/html": [
       "<div>\n",
       "<style scoped>\n",
       "    .dataframe tbody tr th:only-of-type {\n",
       "        vertical-align: middle;\n",
       "    }\n",
       "\n",
       "    .dataframe tbody tr th {\n",
       "        vertical-align: top;\n",
       "    }\n",
       "\n",
       "    .dataframe thead th {\n",
       "        text-align: right;\n",
       "    }\n",
       "</style>\n",
       "<table border=\"1\" class=\"dataframe\">\n",
       "  <thead>\n",
       "    <tr style=\"text-align: right;\">\n",
       "      <th></th>\n",
       "      <th>Job Title</th>\n",
       "      <th>Job Location</th>\n",
       "      <th>Company Name</th>\n",
       "      <th>Experience</th>\n",
       "    </tr>\n",
       "  </thead>\n",
       "  <tbody>\n",
       "    <tr>\n",
       "      <th>1</th>\n",
       "      <td>Data Scientist/Data Analyst /Business Analyst</td>\n",
       "      <td>Pune, Delhi / NCR, Mumbai (All Areas)</td>\n",
       "      <td>Inflexion Analytix Private Limited</td>\n",
       "      <td>0-3 Yrs</td>\n",
       "    </tr>\n",
       "    <tr>\n",
       "      <th>2</th>\n",
       "      <td>Only Fresher / Data Scientist / Data Analyst /...</td>\n",
       "      <td>Noida, Greater Noida, Delhi / NCR</td>\n",
       "      <td>GABA Consultancy services</td>\n",
       "      <td>0-0 Yrs</td>\n",
       "    </tr>\n",
       "    <tr>\n",
       "      <th>3</th>\n",
       "      <td>Data Scientist - Machine Learning/ NLP</td>\n",
       "      <td>Gurgaon/Gurugram</td>\n",
       "      <td>TalPro</td>\n",
       "      <td>2-6 Yrs</td>\n",
       "    </tr>\n",
       "    <tr>\n",
       "      <th>4</th>\n",
       "      <td>Data Scientist || Python || C2H</td>\n",
       "      <td>Noida, Kolkata, Gurgaon/Gurugram, Bangalore/Be...</td>\n",
       "      <td>Growel Softech Pvt. Ltd.</td>\n",
       "      <td>4-6 Yrs</td>\n",
       "    </tr>\n",
       "    <tr>\n",
       "      <th>5</th>\n",
       "      <td>Data Scientist || Python || C2H</td>\n",
       "      <td>Noida, Kolkata, Gurgaon/Gurugram, Bangalore/Be...</td>\n",
       "      <td>Growel Softech Pvt. Ltd.</td>\n",
       "      <td>4-6 Yrs</td>\n",
       "    </tr>\n",
       "    <tr>\n",
       "      <th>6</th>\n",
       "      <td>Advanced Analytics -Data Scientist</td>\n",
       "      <td>New Delhi, Hyderabad/Secunderabad</td>\n",
       "      <td>ERM Placement Services (P) Ltd.</td>\n",
       "      <td>3-7 Yrs</td>\n",
       "    </tr>\n",
       "    <tr>\n",
       "      <th>7</th>\n",
       "      <td>Data Scientist (Early Joiner)</td>\n",
       "      <td>Noida(Sector-59 Noida)</td>\n",
       "      <td>R Systems International Ltd.</td>\n",
       "      <td>4-8 Yrs</td>\n",
       "    </tr>\n",
       "    <tr>\n",
       "      <th>8</th>\n",
       "      <td>Data analytics / Data scientist intern (work f...</td>\n",
       "      <td>Kolkata, Bangalore/Bengaluru, Delhi / NCR</td>\n",
       "      <td>TalkValley LLC</td>\n",
       "      <td>0-5 Yrs</td>\n",
       "    </tr>\n",
       "    <tr>\n",
       "      <th>9</th>\n",
       "      <td>Chaayos is Looking For Data Scientist</td>\n",
       "      <td>New Delhi</td>\n",
       "      <td>Chaayos (Sunshine Teahouse Pvt. Ltd.)</td>\n",
       "      <td>0-5 Yrs</td>\n",
       "    </tr>\n",
       "    <tr>\n",
       "      <th>10</th>\n",
       "      <td>Data Scientist</td>\n",
       "      <td>Mumbai, Gurgaon/Gurugram, Bangalore/Bengaluru</td>\n",
       "      <td>Fractal Analytics</td>\n",
       "      <td>3-7 Yrs</td>\n",
       "    </tr>\n",
       "  </tbody>\n",
       "</table>\n",
       "</div>"
      ],
      "text/plain": [
       "                                           Job Title   \\\n",
       "1       Data Scientist/Data Analyst /Business Analyst   \n",
       "2   Only Fresher / Data Scientist / Data Analyst /...   \n",
       "3              Data Scientist - Machine Learning/ NLP   \n",
       "4                     Data Scientist || Python || C2H   \n",
       "5                     Data Scientist || Python || C2H   \n",
       "6                  Advanced Analytics -Data Scientist   \n",
       "7                       Data Scientist (Early Joiner)   \n",
       "8   Data analytics / Data scientist intern (work f...   \n",
       "9               Chaayos is Looking For Data Scientist   \n",
       "10                                     Data Scientist   \n",
       "\n",
       "                                         Job Location  \\\n",
       "1               Pune, Delhi / NCR, Mumbai (All Areas)   \n",
       "2                   Noida, Greater Noida, Delhi / NCR   \n",
       "3                                    Gurgaon/Gurugram   \n",
       "4   Noida, Kolkata, Gurgaon/Gurugram, Bangalore/Be...   \n",
       "5   Noida, Kolkata, Gurgaon/Gurugram, Bangalore/Be...   \n",
       "6                   New Delhi, Hyderabad/Secunderabad   \n",
       "7                              Noida(Sector-59 Noida)   \n",
       "8           Kolkata, Bangalore/Bengaluru, Delhi / NCR   \n",
       "9                                           New Delhi   \n",
       "10      Mumbai, Gurgaon/Gurugram, Bangalore/Bengaluru   \n",
       "\n",
       "                             Company Name Experience  \n",
       "1      Inflexion Analytix Private Limited    0-3 Yrs  \n",
       "2               GABA Consultancy services    0-0 Yrs  \n",
       "3                                  TalPro    2-6 Yrs  \n",
       "4                Growel Softech Pvt. Ltd.    4-6 Yrs  \n",
       "5                Growel Softech Pvt. Ltd.    4-6 Yrs  \n",
       "6         ERM Placement Services (P) Ltd.    3-7 Yrs  \n",
       "7            R Systems International Ltd.    4-8 Yrs  \n",
       "8                          TalkValley LLC    0-5 Yrs  \n",
       "9   Chaayos (Sunshine Teahouse Pvt. Ltd.)    0-5 Yrs  \n",
       "10                      Fractal Analytics    3-7 Yrs  "
      ]
     },
     "execution_count": 62,
     "metadata": {},
     "output_type": "execute_result"
    }
   ],
   "source": [
    "# DataFrame for filtered Datascientist :\n",
    "\n",
    "FilterDS_Data_Frame = pd.DataFrame({\"Job Title \": Filter_Job_title_List ,\"Job Location\": Filter_Final_JBList ,\"Company Name\":Filter_Final_Company_name_list,\"Experience\": Filter_Final_Experience_List},index = range(1,len(DS_Final_JBList)+1))\n",
    "FilterDS_Data_Frame\n"
   ]
  },
  {
   "cell_type": "markdown",
   "metadata": {},
   "source": [
    "### Q5: Write a python program to scrape the salary data for Data Scientist designation in Noida location.."
   ]
  },
  {
   "cell_type": "code",
   "execution_count": 7,
   "metadata": {},
   "outputs": [],
   "source": [
    "driver = webdriver.Chrome(r\"D:\\Project\\Web Driver\\chromedriver.exe\")\n",
    "GDurl = 'https://www.glassdoor.co.in/Salaries/index.htm'\n",
    "driver.get(GDurl)"
   ]
  },
  {
   "cell_type": "code",
   "execution_count": 8,
   "metadata": {},
   "outputs": [],
   "source": [
    "Search_GD_DS = driver.find_element_by_id(\"KeywordSearch\")\n",
    "Search_GD_DS.send_keys(\"Data Scientist\")"
   ]
  },
  {
   "cell_type": "code",
   "execution_count": 9,
   "metadata": {},
   "outputs": [],
   "source": [
    "Search_GD_Location = driver.find_element_by_id(\"LocationSearch\")\n",
    "Search_GD_Location.clear()\n",
    "Search_GD_Location.send_keys(\"Noida\")"
   ]
  },
  {
   "cell_type": "code",
   "execution_count": 10,
   "metadata": {},
   "outputs": [],
   "source": [
    "Search_Button = driver.find_element_by_xpath('/html/body/div[3]/div/div[1]/div[1]/div/div/form/button')\n",
    "Search_Button.click()"
   ]
  },
  {
   "cell_type": "code",
   "execution_count": 11,
   "metadata": {},
   "outputs": [
    {
     "data": {
      "text/plain": [
       "['IBM',\n",
       " 'Tata Consultancy Services',\n",
       " 'Accenture',\n",
       " 'Delhivery',\n",
       " 'Ericsson-Worldwide',\n",
       " 'UnitedHealth Group',\n",
       " 'Valiance Solutions',\n",
       " 'EXL Service',\n",
       " 'Optum Global Solutions',\n",
       " 'ZS Associates']"
      ]
     },
     "execution_count": 11,
     "metadata": {},
     "output_type": "execute_result"
    }
   ],
   "source": [
    "# Company name Extraction\n",
    "GD_Company_name = driver.find_elements_by_xpath('//a[@class = \"css-f3vw95 e1aj7ssy3\"]')\n",
    "GD_Company_name_list = []\n",
    "for gc in GD_Company_name:\n",
    "    GD_Company_name_list.append(gc.text)\n",
    "    \n",
    "GD_Final_Company_name_list= GD_Company_name_list[:10]\n",
    "GD_Final_Company_name_list\n"
   ]
  },
  {
   "cell_type": "code",
   "execution_count": 12,
   "metadata": {},
   "outputs": [
    {
     "data": {
      "text/plain": [
       "['18 salaries',\n",
       " '17 salaries',\n",
       " '15 salaries',\n",
       " '15 salaries',\n",
       " '14 salaries',\n",
       " '12 salaries',\n",
       " '10 salaries',\n",
       " '9 salaries',\n",
       " '9 salaries',\n",
       " '8 salaries']"
      ]
     },
     "execution_count": 12,
     "metadata": {},
     "output_type": "execute_result"
    }
   ],
   "source": [
    "# Number Of Salaries Extraction\n",
    "GD_NumSalaries = driver.find_elements_by_xpath('//div[@class = \"col-12 col-lg-auto\"]//span')\n",
    "GD_NumSalaries_list = []\n",
    "for ns in GD_NumSalaries:\n",
    "    GD_NumSalaries_list.append(ns.text)\n",
    "    \n",
    "GD_Final_NumSalaries_list= GD_NumSalaries_list[:10]\n",
    "GD_Final_NumSalaries_list\n"
   ]
  },
  {
   "cell_type": "code",
   "execution_count": 13,
   "metadata": {},
   "outputs": [
    {
     "data": {
      "text/plain": [
       "['₹9,00,000',\n",
       " '₹6,15,289',\n",
       " '₹11,63,336',\n",
       " '₹12,18,244',\n",
       " '₹7,39,238',\n",
       " '₹13,19,140',\n",
       " '₹8,63,750',\n",
       " '₹11,10,000',\n",
       " '₹13,28,697',\n",
       " '₹11,42,356']"
      ]
     },
     "execution_count": 13,
     "metadata": {},
     "output_type": "execute_result"
    }
   ],
   "source": [
    "# Average Salary Extraction\n",
    "GD_Salary = driver.find_elements_by_xpath('//div[@class = \"col-12 col-lg-4 px-lg-0 d-flex align-items-baseline\"]//h3')\n",
    "GD_Salary_list = []\n",
    "for gas in GD_Salary:\n",
    "    GD_Salary_list.append(gas.text)\n",
    "    \n",
    "GD_Final_Salary_list= GD_Salary_list[:10]\n",
    "GD_Final_Salary_list"
   ]
  },
  {
   "cell_type": "code",
   "execution_count": 16,
   "metadata": {},
   "outputs": [
    {
     "data": {
      "text/plain": [
       "['₹6L', '₹3L', '₹6L', '₹5L', '₹4L', '₹11L', '₹5L', '₹6L', '₹4L', '₹2L']"
      ]
     },
     "execution_count": 16,
     "metadata": {},
     "output_type": "execute_result"
    }
   ],
   "source": [
    "# Minimum Salary Extraction\n",
    "GD_MinMaxSalary = driver.find_elements_by_xpath('//span[@class = \"d-block d-lg-none m-0 css-1b6bxoo\"]')\n",
    "GD_MinMaxSalary_list = []\n",
    "GD_MinSalary_list = []\n",
    "for ms in GD_MinMaxSalary:\n",
    "    GD_MinMaxSalary_list.append(ms.text)\n",
    "    \n",
    "GD_Final_MinMaxSalary_list= GD_MinMaxSalary_list[:10]\n",
    "GD_Final_MinMaxSalary_list\n",
    "\n",
    "for sl in GD_Final_MinMaxSalary_list:\n",
    "    GD_MinSalary_list.append(sl[sl.find('₹'):sl.find('-')].replace(\" \",\"\"))\n",
    "GD_MinSalary_list"
   ]
  },
  {
   "cell_type": "code",
   "execution_count": 18,
   "metadata": {},
   "outputs": [
    {
     "data": {
      "text/plain": [
       "['₹27L',\n",
       " '₹13L',\n",
       " '₹22L',\n",
       " '₹1Cr',\n",
       " '₹16L',\n",
       " '₹15L',\n",
       " '₹15L',\n",
       " '₹15L',\n",
       " '₹22L',\n",
       " '₹18L']"
      ]
     },
     "execution_count": 18,
     "metadata": {},
     "output_type": "execute_result"
    }
   ],
   "source": [
    "# Minimum Salary Extraction\n",
    "GD_MaxSalary_list = []\n",
    "\n",
    "for xsl in GD_Final_MinMaxSalary_list:\n",
    "    GD_MaxSalary_list.append(xsl[xsl.find('₹',xsl.find('₹')+1):len(xsl)].replace(\" \",\"\"))\n",
    "GD_MaxSalary_list"
   ]
  },
  {
   "cell_type": "code",
   "execution_count": 22,
   "metadata": {},
   "outputs": [
    {
     "data": {
      "text/plain": [
       "['3.9/5 stars',\n",
       " '3.9/5 stars',\n",
       " '4/5 stars',\n",
       " '3.9/5 stars',\n",
       " '4/5 stars',\n",
       " '3.7/5 stars',\n",
       " '4.2/5 stars',\n",
       " '3.6/5 stars',\n",
       " '3.9/5 stars',\n",
       " '4/5 stars']"
      ]
     },
     "execution_count": 22,
     "metadata": {},
     "output_type": "execute_result"
    }
   ],
   "source": [
    "# Ratings Extraction\n",
    "GD_Rating = driver.find_elements_by_xpath('//span[@class = \"m-0 css-kyx745\"]')\n",
    "GD_Rating_list = []\n",
    "for rt in GD_Rating:\n",
    "    GD_Rating_list.append(rt.text + '/5 stars')\n",
    "    \n",
    "GD_Final_Rating_list= GD_Rating_list[:10]\n",
    "GD_Final_Rating_list"
   ]
  },
  {
   "cell_type": "code",
   "execution_count": 141,
   "metadata": {},
   "outputs": [
    {
     "data": {
      "text/html": [
       "<div>\n",
       "<style scoped>\n",
       "    .dataframe tbody tr th:only-of-type {\n",
       "        vertical-align: middle;\n",
       "    }\n",
       "\n",
       "    .dataframe tbody tr th {\n",
       "        vertical-align: top;\n",
       "    }\n",
       "\n",
       "    .dataframe thead th {\n",
       "        text-align: right;\n",
       "    }\n",
       "</style>\n",
       "<table border=\"1\" class=\"dataframe\">\n",
       "  <thead>\n",
       "    <tr style=\"text-align: right;\">\n",
       "      <th></th>\n",
       "      <th>Company Name</th>\n",
       "      <th>Number of Salaries</th>\n",
       "      <th>Average Salary</th>\n",
       "      <th>Minimum Salary</th>\n",
       "      <th>Maximum Salary</th>\n",
       "      <th>Ratings of Company</th>\n",
       "    </tr>\n",
       "  </thead>\n",
       "  <tbody>\n",
       "    <tr>\n",
       "      <th>1</th>\n",
       "      <td>IBM</td>\n",
       "      <td>18 salaries</td>\n",
       "      <td>₹9,00,000</td>\n",
       "      <td>₹6L</td>\n",
       "      <td>₹27L</td>\n",
       "      <td>3.9/5 stars</td>\n",
       "    </tr>\n",
       "    <tr>\n",
       "      <th>2</th>\n",
       "      <td>Tata Consultancy Services</td>\n",
       "      <td>17 salaries</td>\n",
       "      <td>₹6,15,289</td>\n",
       "      <td>₹3L</td>\n",
       "      <td>₹13L</td>\n",
       "      <td>3.9/5 stars</td>\n",
       "    </tr>\n",
       "    <tr>\n",
       "      <th>3</th>\n",
       "      <td>Accenture</td>\n",
       "      <td>15 salaries</td>\n",
       "      <td>₹11,63,336</td>\n",
       "      <td>₹6L</td>\n",
       "      <td>₹22L</td>\n",
       "      <td>4/5 stars</td>\n",
       "    </tr>\n",
       "    <tr>\n",
       "      <th>4</th>\n",
       "      <td>Delhivery</td>\n",
       "      <td>15 salaries</td>\n",
       "      <td>₹12,18,244</td>\n",
       "      <td>₹5L</td>\n",
       "      <td>₹1Cr</td>\n",
       "      <td>3.9/5 stars</td>\n",
       "    </tr>\n",
       "    <tr>\n",
       "      <th>5</th>\n",
       "      <td>Ericsson-Worldwide</td>\n",
       "      <td>14 salaries</td>\n",
       "      <td>₹7,39,238</td>\n",
       "      <td>₹4L</td>\n",
       "      <td>₹16L</td>\n",
       "      <td>4/5 stars</td>\n",
       "    </tr>\n",
       "    <tr>\n",
       "      <th>6</th>\n",
       "      <td>UnitedHealth Group</td>\n",
       "      <td>12 salaries</td>\n",
       "      <td>₹13,19,140</td>\n",
       "      <td>₹11L</td>\n",
       "      <td>₹15L</td>\n",
       "      <td>3.7/5 stars</td>\n",
       "    </tr>\n",
       "    <tr>\n",
       "      <th>7</th>\n",
       "      <td>Valiance Solutions</td>\n",
       "      <td>10 salaries</td>\n",
       "      <td>₹8,63,750</td>\n",
       "      <td>₹5L</td>\n",
       "      <td>₹15L</td>\n",
       "      <td>4.2/5 stars</td>\n",
       "    </tr>\n",
       "    <tr>\n",
       "      <th>8</th>\n",
       "      <td>EXL Service</td>\n",
       "      <td>9 salaries</td>\n",
       "      <td>₹11,10,000</td>\n",
       "      <td>₹6L</td>\n",
       "      <td>₹15L</td>\n",
       "      <td>3.6/5 stars</td>\n",
       "    </tr>\n",
       "    <tr>\n",
       "      <th>9</th>\n",
       "      <td>Optum Global Solutions</td>\n",
       "      <td>9 salaries</td>\n",
       "      <td>₹13,28,697</td>\n",
       "      <td>₹4L</td>\n",
       "      <td>₹22L</td>\n",
       "      <td>3.9/5 stars</td>\n",
       "    </tr>\n",
       "    <tr>\n",
       "      <th>10</th>\n",
       "      <td>ZS Associates</td>\n",
       "      <td>8 salaries</td>\n",
       "      <td>₹11,42,356</td>\n",
       "      <td>₹2L</td>\n",
       "      <td>₹18L</td>\n",
       "      <td>4/5 stars</td>\n",
       "    </tr>\n",
       "  </tbody>\n",
       "</table>\n",
       "</div>"
      ],
      "text/plain": [
       "                 Company Name Number of Salaries Average Salary  \\\n",
       "1                         IBM        18 salaries      ₹9,00,000   \n",
       "2   Tata Consultancy Services        17 salaries      ₹6,15,289   \n",
       "3                   Accenture        15 salaries     ₹11,63,336   \n",
       "4                   Delhivery        15 salaries     ₹12,18,244   \n",
       "5          Ericsson-Worldwide        14 salaries      ₹7,39,238   \n",
       "6          UnitedHealth Group        12 salaries     ₹13,19,140   \n",
       "7          Valiance Solutions        10 salaries      ₹8,63,750   \n",
       "8                 EXL Service         9 salaries     ₹11,10,000   \n",
       "9      Optum Global Solutions         9 salaries     ₹13,28,697   \n",
       "10              ZS Associates         8 salaries     ₹11,42,356   \n",
       "\n",
       "   Minimum Salary Maximum Salary Ratings of Company  \n",
       "1             ₹6L           ₹27L        3.9/5 stars  \n",
       "2             ₹3L           ₹13L        3.9/5 stars  \n",
       "3             ₹6L           ₹22L          4/5 stars  \n",
       "4             ₹5L           ₹1Cr        3.9/5 stars  \n",
       "5             ₹4L           ₹16L          4/5 stars  \n",
       "6            ₹11L           ₹15L        3.7/5 stars  \n",
       "7             ₹5L           ₹15L        4.2/5 stars  \n",
       "8             ₹6L           ₹15L        3.6/5 stars  \n",
       "9             ₹4L           ₹22L        3.9/5 stars  \n",
       "10            ₹2L           ₹18L          4/5 stars  "
      ]
     },
     "execution_count": 141,
     "metadata": {},
     "output_type": "execute_result"
    }
   ],
   "source": [
    "# Data framing Glass door Salary info:\n",
    "\n",
    "import pandas as pd\n",
    "\n",
    "GD_Framing = pd.DataFrame({'Company Name':GD_Final_Company_name_list,'Number of Salaries':GD_Final_NumSalaries_list,'Average Salary':GD_Final_Salary_list,'Minimum Salary':GD_MinSalary_list,'Maximum Salary':GD_MaxSalary_list,'Ratings of Company':GD_Final_Rating_list},index = range(1,len(GD_Final_Rating_list)+1))\n",
    "GD_Framing"
   ]
  },
  {
   "cell_type": "markdown",
   "metadata": {},
   "source": [
    "### Q6 : Scrape data of first 100 sunglasses listings on flipkart.com. You have to scrape four attributes:"
   ]
  },
  {
   "cell_type": "code",
   "execution_count": 3,
   "metadata": {},
   "outputs": [],
   "source": [
    "driver = webdriver.Chrome(r\"D:\\Project\\Web Driver\\chromedriver.exe\")\n",
    "GDurl = 'https://www.flipkart.com/'\n",
    "driver.get(GDurl)"
   ]
  },
  {
   "cell_type": "code",
   "execution_count": 4,
   "metadata": {},
   "outputs": [],
   "source": [
    "close_Button =  driver.find_element_by_xpath(\"//button[@class = '_2KpZ6l _2doB4z']\")\n",
    "close_Button.click()"
   ]
  },
  {
   "cell_type": "code",
   "execution_count": 5,
   "metadata": {},
   "outputs": [],
   "source": [
    "Search_Flip = driver.find_element_by_xpath(\"//input[@class = '_3704LK']\")\n",
    "Search_Flip.send_keys(\"Sunglasses\")"
   ]
  },
  {
   "cell_type": "code",
   "execution_count": 6,
   "metadata": {},
   "outputs": [],
   "source": [
    "Search_Button =  driver.find_element_by_xpath(\"//button[@class = 'L0Z3Pu']\")\n",
    "Search_Button.click()"
   ]
  },
  {
   "cell_type": "code",
   "execution_count": 7,
   "metadata": {},
   "outputs": [
    {
     "data": {
      "text/plain": [
       "<selenium.webdriver.remote.webelement.WebElement (session=\"767b4e3b5a433b870aba151c709ae2d6\", element=\"a929663f-7217-499c-9df3-d7289f939c35\")>"
      ]
     },
     "execution_count": 7,
     "metadata": {},
     "output_type": "execute_result"
    }
   ],
   "source": [
    "Next_Button = driver.find_element_by_xpath(\"//a[@class = '_1LKTO3']//span\")\n",
    "Next_Button"
   ]
  },
  {
   "cell_type": "code",
   "execution_count": 8,
   "metadata": {},
   "outputs": [],
   "source": [
    "Product_desc =[]\n",
    "Brand_List = []\n",
    "Price = []\n",
    "while len(Brand_List) < 101:\n",
    "    Brand_tag = driver.find_elements_by_xpath(\"//div[@class = '_2WkVRV']\")\n",
    "    for bs in Brand_tag:   \n",
    "        Brand_List.append(bs.text.strip())\n",
    "    pd_tag = driver.find_elements_by_xpath(\"//div[@class = '_2B099V']//a\")\n",
    "    for pd in pd_tag:\n",
    "        Product_desc.append(pd.text)\n",
    "    time.sleep(2)\n",
    "    price_tag = driver.find_elements_by_xpath(\"//a[@class = '_3bPFwb']//div//div\")\n",
    "    for pc in price_tag:\n",
    "        Price.append(pc.text.strip())\n",
    "        \n",
    "    Next_Button.click()\n",
    "    time.sleep(2)\n",
    "\n"
   ]
  },
  {
   "cell_type": "code",
   "execution_count": 9,
   "metadata": {},
   "outputs": [],
   "source": [
    "#Extract PRoduct Desc:\n",
    "\n",
    "Product_desc_List = []\n",
    "for pdl in range(0,len(Product_desc),2):\n",
    "    Product_desc_List.append(Product_desc[pdl])\n",
    "Product_desc_List\n",
    "Final_Product_desc_List = Product_desc_List[:100]"
   ]
  },
  {
   "cell_type": "code",
   "execution_count": 10,
   "metadata": {},
   "outputs": [],
   "source": [
    "Final_Brand_List = Brand_List[:100]"
   ]
  },
  {
   "cell_type": "code",
   "execution_count": 11,
   "metadata": {},
   "outputs": [],
   "source": [
    "#Price List Extract\n",
    "Price_list = []\n",
    "for pp in range(0,len(Price),3):\n",
    "    Price_list.append(Price[pp])\n",
    "Price_list\n",
    "Final_Price_list = Price_list[:100]"
   ]
  },
  {
   "cell_type": "code",
   "execution_count": 12,
   "metadata": {},
   "outputs": [
    {
     "data": {
      "text/plain": [
       "['₹299',\n",
       " '₹2,599',\n",
       " '88% off',\n",
       " '₹758',\n",
       " '₹899',\n",
       " '₹141 off',\n",
       " '₹513',\n",
       " '₹799',\n",
       " '₹286 off',\n",
       " '₹237',\n",
       " '₹1,599',\n",
       " '85% off',\n",
       " '₹349',\n",
       " '₹1,599',\n",
       " '78% off',\n",
       " '₹281',\n",
       " '₹1,999',\n",
       " '85% off',\n",
       " '₹399',\n",
       " '₹1,999',\n",
       " '80% off',\n",
       " '₹309',\n",
       " '₹2,298',\n",
       " '86% off',\n",
       " '₹655',\n",
       " '₹899',\n",
       " '₹244 off',\n",
       " '₹509',\n",
       " '₹799',\n",
       " '₹290 off',\n",
       " '₹612',\n",
       " '₹899',\n",
       " '₹287 off',\n",
       " '₹299',\n",
       " '₹2,599',\n",
       " '88% off',\n",
       " '₹225',\n",
       " '₹1,099',\n",
       " '79% off',\n",
       " '₹499',\n",
       " '₹2,225',\n",
       " '77% off',\n",
       " '₹1,085',\n",
       " '₹1,299',\n",
       " '₹214 off',\n",
       " '₹210',\n",
       " '₹1,299',\n",
       " '83% off',\n",
       " '₹1,010',\n",
       " '₹1,299',\n",
       " '₹289 off',\n",
       " '₹331',\n",
       " '₹1,599',\n",
       " '79% off',\n",
       " '₹213',\n",
       " '₹1,199',\n",
       " '82% off',\n",
       " '₹349',\n",
       " '₹1,499',\n",
       " '76% off',\n",
       " '₹592',\n",
       " '₹899',\n",
       " '₹307 off',\n",
       " '₹259',\n",
       " '₹1,499',\n",
       " '82% off',\n",
       " '₹215',\n",
       " '₹785',\n",
       " '72% off',\n",
       " '₹331',\n",
       " '₹2,599',\n",
       " '87% off',\n",
       " '₹197',\n",
       " '₹1,466',\n",
       " '86% off',\n",
       " '₹522',\n",
       " '₹899',\n",
       " '41% off',\n",
       " '₹399',\n",
       " '₹1,999',\n",
       " '80% off',\n",
       " '₹738',\n",
       " '₹999',\n",
       " '₹261 off',\n",
       " '₹647',\n",
       " '₹899',\n",
       " '₹252 off',\n",
       " '₹399',\n",
       " '₹2,199',\n",
       " '81% off',\n",
       " '₹236',\n",
       " '₹1,499',\n",
       " '84% off',\n",
       " '₹449',\n",
       " '₹2,225',\n",
       " '79% off',\n",
       " '₹299',\n",
       " '₹1,899',\n",
       " '84% off',\n",
       " '₹499',\n",
       " '₹2,256',\n",
       " '77% off',\n",
       " '₹404',\n",
       " '₹1,999',\n",
       " '79% off',\n",
       " '₹352',\n",
       " '₹1,199',\n",
       " '70% off',\n",
       " '₹755',\n",
       " '₹899',\n",
       " '₹144 off',\n",
       " '₹449',\n",
       " '₹1,999',\n",
       " '77% off',\n",
       " '₹449',\n",
       " '₹1,995',\n",
       " '77% off',\n",
       " '₹199',\n",
       " '₹999',\n",
       " '80% off',\n",
       " '₹299',\n",
       " '₹1,499',\n",
       " '80% off',\n",
       " '₹162',\n",
       " '₹499',\n",
       " '67% off',\n",
       " '₹251',\n",
       " '₹1,199',\n",
       " '79% off',\n",
       " '₹237',\n",
       " '₹1,599',\n",
       " '85% off',\n",
       " '₹319',\n",
       " '₹1,998',\n",
       " '84% off',\n",
       " '₹349',\n",
       " '₹1,599',\n",
       " '78% off',\n",
       " '₹210',\n",
       " '₹1,199',\n",
       " '82% off',\n",
       " '₹331',\n",
       " '₹1,999',\n",
       " '83% off',\n",
       " '₹379',\n",
       " '₹1,499',\n",
       " '74% off',\n",
       " '₹237',\n",
       " '₹1,599',\n",
       " '85% off',\n",
       " '₹558',\n",
       " '₹799',\n",
       " '₹241 off',\n",
       " '₹217',\n",
       " '₹999',\n",
       " '78% off',\n",
       " '₹249',\n",
       " '₹1,199',\n",
       " '79% off',\n",
       " '₹189',\n",
       " '₹1,398',\n",
       " '86% off',\n",
       " '₹733',\n",
       " '₹899',\n",
       " '₹166 off',\n",
       " '₹499',\n",
       " '₹2,252',\n",
       " '77% off',\n",
       " '₹249',\n",
       " '₹599',\n",
       " '58% off',\n",
       " '₹207',\n",
       " '₹1,799',\n",
       " '88% off',\n",
       " '₹1,115',\n",
       " '₹1,299',\n",
       " '₹184 off',\n",
       " '₹655',\n",
       " '₹799',\n",
       " '₹144 off',\n",
       " '₹606',\n",
       " '₹1,285',\n",
       " '52% off',\n",
       " '₹629',\n",
       " '₹899',\n",
       " '₹270 off',\n",
       " '₹205',\n",
       " '₹999',\n",
       " '79% off',\n",
       " '₹399',\n",
       " '₹1,999',\n",
       " '80% off',\n",
       " '₹252',\n",
       " '₹999',\n",
       " '74% off',\n",
       " '₹474',\n",
       " '₹1,499',\n",
       " '68% off',\n",
       " '₹197',\n",
       " '₹999',\n",
       " '80% off',\n",
       " '₹549',\n",
       " '₹799',\n",
       " '₹250 off',\n",
       " '₹399',\n",
       " '₹1,999',\n",
       " '80% off',\n",
       " '₹214',\n",
       " '₹699',\n",
       " '69% off',\n",
       " '₹233',\n",
       " '₹1,299',\n",
       " '82% off',\n",
       " '₹299',\n",
       " '₹1,299',\n",
       " '76% off',\n",
       " '₹449',\n",
       " '₹2,665',\n",
       " '83% off',\n",
       " '₹212',\n",
       " '₹999',\n",
       " '78% off',\n",
       " '₹292',\n",
       " '₹1,999',\n",
       " '85% off',\n",
       " '₹219',\n",
       " '₹799',\n",
       " '72% off',\n",
       " '₹299',\n",
       " '₹1,499',\n",
       " '80% off',\n",
       " '₹331',\n",
       " '₹1,999',\n",
       " '83% off',\n",
       " '₹210',\n",
       " '₹1,299',\n",
       " '83% off',\n",
       " '₹782',\n",
       " '₹799',\n",
       " '₹17 off',\n",
       " '₹319',\n",
       " '₹1,998',\n",
       " '84% off',\n",
       " '₹398',\n",
       " '₹1,499',\n",
       " '73% off',\n",
       " '₹269',\n",
       " '₹999',\n",
       " '73% off',\n",
       " '₹539',\n",
       " '₹799',\n",
       " '₹260 off',\n",
       " '₹1,021',\n",
       " '₹1,299',\n",
       " '₹278 off',\n",
       " '₹237',\n",
       " '₹1,599',\n",
       " '85% off',\n",
       " '₹1,830',\n",
       " '₹1,999',\n",
       " '₹169 off',\n",
       " '₹185',\n",
       " '₹750',\n",
       " '75% off',\n",
       " '₹1,470',\n",
       " '₹1,999',\n",
       " '26% off',\n",
       " '₹399',\n",
       " '₹1,446',\n",
       " '72% off',\n",
       " '₹227',\n",
       " '₹1,499',\n",
       " '84% off',\n",
       " '₹265',\n",
       " '₹1,299',\n",
       " '79% off',\n",
       " '₹443',\n",
       " '₹1,499',\n",
       " '70% off',\n",
       " '₹539',\n",
       " '₹750',\n",
       " '₹211 off',\n",
       " '₹259',\n",
       " '₹1,998',\n",
       " '87% off',\n",
       " '₹315',\n",
       " '₹1,699',\n",
       " '81% off',\n",
       " '₹299',\n",
       " '₹1,199',\n",
       " '75% off',\n",
       " '₹211',\n",
       " '₹999',\n",
       " '78% off',\n",
       " '₹235',\n",
       " '₹975',\n",
       " '75% off',\n",
       " '₹249',\n",
       " '₹1,299',\n",
       " '80% off',\n",
       " '₹331',\n",
       " '₹1,799',\n",
       " '81% off',\n",
       " '₹738',\n",
       " '₹1,099',\n",
       " '₹361 off',\n",
       " '₹503',\n",
       " '₹799',\n",
       " '₹296 off',\n",
       " '₹499',\n",
       " '₹1,499',\n",
       " '66% off',\n",
       " '₹788',\n",
       " '₹899',\n",
       " '₹111 off',\n",
       " '₹664',\n",
       " '₹1,999',\n",
       " '66% off',\n",
       " '₹499',\n",
       " '₹1,499',\n",
       " '66% off',\n",
       " '₹1,969',\n",
       " '₹1,999',\n",
       " '₹30 off',\n",
       " '₹197',\n",
       " '₹1,298',\n",
       " '84% off',\n",
       " '₹1,222',\n",
       " '₹4,100',\n",
       " '70% off',\n",
       " '₹260',\n",
       " '₹1,995',\n",
       " '86% off',\n",
       " '₹711',\n",
       " '₹2,549',\n",
       " '72% off',\n",
       " '₹323',\n",
       " '₹1,999',\n",
       " '83% off',\n",
       " '₹314',\n",
       " '₹1,999',\n",
       " '84% off',\n",
       " '₹209',\n",
       " '₹999',\n",
       " '79% off',\n",
       " '₹279',\n",
       " '₹1,499',\n",
       " '81% off',\n",
       " '₹249',\n",
       " '₹999',\n",
       " '75% off',\n",
       " '₹454',\n",
       " '₹1,285',\n",
       " '64% off',\n",
       " '₹170',\n",
       " '₹999',\n",
       " '82% off',\n",
       " '₹449',\n",
       " '₹1,999',\n",
       " '77% off']"
      ]
     },
     "execution_count": 12,
     "metadata": {},
     "output_type": "execute_result"
    }
   ],
   "source": [
    "Price"
   ]
  },
  {
   "cell_type": "code",
   "execution_count": 13,
   "metadata": {},
   "outputs": [],
   "source": [
    "#Discount List List Extract\n",
    "Discount_list = []\n",
    "for dl in range(2,len(Price),3):\n",
    "    Discount_list.append(Price[dl])\n",
    "Discount_list\n",
    "Final_Discount_list = Discount_list[:100]"
   ]
  },
  {
   "cell_type": "code",
   "execution_count": 14,
   "metadata": {},
   "outputs": [
    {
     "data": {
      "text/html": [
       "<div>\n",
       "<style scoped>\n",
       "    .dataframe tbody tr th:only-of-type {\n",
       "        vertical-align: middle;\n",
       "    }\n",
       "\n",
       "    .dataframe tbody tr th {\n",
       "        vertical-align: top;\n",
       "    }\n",
       "\n",
       "    .dataframe thead th {\n",
       "        text-align: right;\n",
       "    }\n",
       "</style>\n",
       "<table border=\"1\" class=\"dataframe\">\n",
       "  <thead>\n",
       "    <tr style=\"text-align: right;\">\n",
       "      <th></th>\n",
       "      <th>Brand</th>\n",
       "      <th>Product Description</th>\n",
       "      <th>Price</th>\n",
       "      <th>Discount</th>\n",
       "    </tr>\n",
       "  </thead>\n",
       "  <tbody>\n",
       "    <tr>\n",
       "      <th>1</th>\n",
       "      <td>kingsunglasses</td>\n",
       "      <td>Mirrored, UV Protection Wayfarer Sunglasses (F...</td>\n",
       "      <td>₹299</td>\n",
       "      <td>88% off</td>\n",
       "    </tr>\n",
       "    <tr>\n",
       "      <th>2</th>\n",
       "      <td>Fastrack</td>\n",
       "      <td>UV Protection Wayfarer Sunglasses (Free Size)</td>\n",
       "      <td>₹758</td>\n",
       "      <td>₹141 off</td>\n",
       "    </tr>\n",
       "    <tr>\n",
       "      <th>3</th>\n",
       "      <td>Fastrack</td>\n",
       "      <td>UV Protection Rectangular Sunglasses (Free Size)</td>\n",
       "      <td>₹513</td>\n",
       "      <td>₹286 off</td>\n",
       "    </tr>\n",
       "    <tr>\n",
       "      <th>4</th>\n",
       "      <td>PIRASO</td>\n",
       "      <td>UV Protection Aviator Sunglasses (54)</td>\n",
       "      <td>₹237</td>\n",
       "      <td>85% off</td>\n",
       "    </tr>\n",
       "    <tr>\n",
       "      <th>5</th>\n",
       "      <td>kingsunglasses</td>\n",
       "      <td>UV Protection Round Sunglasses (Free Size)</td>\n",
       "      <td>₹349</td>\n",
       "      <td>78% off</td>\n",
       "    </tr>\n",
       "    <tr>\n",
       "      <th>...</th>\n",
       "      <td>...</td>\n",
       "      <td>...</td>\n",
       "      <td>...</td>\n",
       "      <td>...</td>\n",
       "    </tr>\n",
       "    <tr>\n",
       "      <th>96</th>\n",
       "      <td>kingsunglasses</td>\n",
       "      <td>UV Protection Round Sunglasses (Free Size)</td>\n",
       "      <td>₹315</td>\n",
       "      <td>81% off</td>\n",
       "    </tr>\n",
       "    <tr>\n",
       "      <th>97</th>\n",
       "      <td>Silver Kartz</td>\n",
       "      <td>UV Protection Oval Sunglasses (56)</td>\n",
       "      <td>₹299</td>\n",
       "      <td>75% off</td>\n",
       "    </tr>\n",
       "    <tr>\n",
       "      <th>98</th>\n",
       "      <td>GANSTA</td>\n",
       "      <td>UV Protection, Mirrored Wayfarer Sunglasses (53)</td>\n",
       "      <td>₹211</td>\n",
       "      <td>78% off</td>\n",
       "    </tr>\n",
       "    <tr>\n",
       "      <th>99</th>\n",
       "      <td>NuVew</td>\n",
       "      <td>UV Protection, Riding Glasses Wayfarer Sunglas...</td>\n",
       "      <td>₹235</td>\n",
       "      <td>75% off</td>\n",
       "    </tr>\n",
       "    <tr>\n",
       "      <th>100</th>\n",
       "      <td>kingsunglasses</td>\n",
       "      <td>Mirrored, UV Protection Aviator Sunglasses (56)</td>\n",
       "      <td>₹249</td>\n",
       "      <td>80% off</td>\n",
       "    </tr>\n",
       "  </tbody>\n",
       "</table>\n",
       "<p>100 rows × 4 columns</p>\n",
       "</div>"
      ],
      "text/plain": [
       "              Brand                                Product Description Price  \\\n",
       "1    kingsunglasses  Mirrored, UV Protection Wayfarer Sunglasses (F...  ₹299   \n",
       "2          Fastrack      UV Protection Wayfarer Sunglasses (Free Size)  ₹758   \n",
       "3          Fastrack   UV Protection Rectangular Sunglasses (Free Size)  ₹513   \n",
       "4            PIRASO              UV Protection Aviator Sunglasses (54)  ₹237   \n",
       "5    kingsunglasses         UV Protection Round Sunglasses (Free Size)  ₹349   \n",
       "..              ...                                                ...   ...   \n",
       "96   kingsunglasses         UV Protection Round Sunglasses (Free Size)  ₹315   \n",
       "97     Silver Kartz                 UV Protection Oval Sunglasses (56)  ₹299   \n",
       "98           GANSTA   UV Protection, Mirrored Wayfarer Sunglasses (53)  ₹211   \n",
       "99            NuVew  UV Protection, Riding Glasses Wayfarer Sunglas...  ₹235   \n",
       "100  kingsunglasses    Mirrored, UV Protection Aviator Sunglasses (56)  ₹249   \n",
       "\n",
       "     Discount  \n",
       "1     88% off  \n",
       "2    ₹141 off  \n",
       "3    ₹286 off  \n",
       "4     85% off  \n",
       "5     78% off  \n",
       "..        ...  \n",
       "96    81% off  \n",
       "97    75% off  \n",
       "98    78% off  \n",
       "99    75% off  \n",
       "100   80% off  \n",
       "\n",
       "[100 rows x 4 columns]"
      ]
     },
     "execution_count": 14,
     "metadata": {},
     "output_type": "execute_result"
    }
   ],
   "source": [
    "#DataFraming all 100 products:\n",
    "import pandas as pd\n",
    "Top_Sunglasses = pd.DataFrame({'Brand':Final_Brand_List,'Product Description':Final_Product_desc_List,'Price':Final_Price_list,'Discount':Final_Discount_list},index =range(1,len(Final_Discount_list)+1))\n",
    "Top_Sunglasses"
   ]
  },
  {
   "cell_type": "markdown",
   "metadata": {},
   "source": [
    "### Q7. Scrape 100 reviews data from flipkart.com for iphone11 phone. You have to go the link: https://www.flipkart.com/apple-iphone-11-black-64-gb-includes\u0002earpods-power\u0002adapter/p/itm0f37c2240b217?pid=MOBFKCTSVZAXUHGR&lid=LSTMOBFKCTSVZAXUHGREPBFGI&marketplace.\n"
   ]
  },
  {
   "cell_type": "code",
   "execution_count": 3,
   "metadata": {},
   "outputs": [],
   "source": [
    "driver = webdriver.Chrome(r\"D:\\Project\\Web Driver\\chromedriver.exe\")\n",
    "furl = 'https://www.flipkart.com/apple-iphone-11-black-64-gb-includes%02earpods-power%02adapter/p/itm0f37c2240b217?pid=MOBFKCTSVZAXUHGR&lid=LSTMOBFKC%20TSVZAXUHGREPBFGI&marketplace.'\n",
    "driver.get(furl)"
   ]
  },
  {
   "cell_type": "code",
   "execution_count": 4,
   "metadata": {},
   "outputs": [
    {
     "data": {
      "text/plain": [
       "<selenium.webdriver.remote.webelement.WebElement (session=\"5619b9d9ac67365767723808fea77a0a\", element=\"789148f9-10c3-49ac-a73a-8011bb98d70b\")>"
      ]
     },
     "execution_count": 4,
     "metadata": {},
     "output_type": "execute_result"
    }
   ],
   "source": [
    "Open_reviews = driver.find_element_by_xpath('//div[@class = \"_3UAT2v _16PBlm\"]//span')\n",
    "Open_reviews"
   ]
  },
  {
   "cell_type": "code",
   "execution_count": 5,
   "metadata": {},
   "outputs": [],
   "source": [
    "Open_reviews.click()"
   ]
  },
  {
   "cell_type": "code",
   "execution_count": 15,
   "metadata": {},
   "outputs": [
    {
     "data": {
      "text/plain": [
       "<selenium.webdriver.remote.webelement.WebElement (session=\"5619b9d9ac67365767723808fea77a0a\", element=\"d3e3232c-93fd-4e0e-8630-1594292ff437\")>"
      ]
     },
     "execution_count": 15,
     "metadata": {},
     "output_type": "execute_result"
    }
   ],
   "source": [
    "N_B= driver.find_element_by_xpath('//a[@class = \"_1LKTO3\"]//span')\n",
    "N_B"
   ]
  },
  {
   "cell_type": "code",
   "execution_count": 16,
   "metadata": {},
   "outputs": [
    {
     "ename": "StaleElementReferenceException",
     "evalue": "Message: stale element reference: element is not attached to the page document\n  (Session info: chrome=91.0.4472.124)\n",
     "output_type": "error",
     "traceback": [
      "\u001b[1;31m---------------------------------------------------------------------------\u001b[0m",
      "\u001b[1;31mStaleElementReferenceException\u001b[0m            Traceback (most recent call last)",
      "\u001b[1;32m<ipython-input-16-e2f90c38d5ef>\u001b[0m in \u001b[0;36m<module>\u001b[1;34m\u001b[0m\n\u001b[0;32m      5\u001b[0m         \u001b[0mReviews\u001b[0m\u001b[1;33m.\u001b[0m\u001b[0mappend\u001b[0m\u001b[1;33m(\u001b[0m\u001b[0mrw\u001b[0m\u001b[1;33m.\u001b[0m\u001b[0mtext\u001b[0m\u001b[1;33m)\u001b[0m\u001b[1;33m\u001b[0m\u001b[1;33m\u001b[0m\u001b[0m\n\u001b[0;32m      6\u001b[0m     \u001b[0mtime\u001b[0m\u001b[1;33m.\u001b[0m\u001b[0msleep\u001b[0m\u001b[1;33m(\u001b[0m\u001b[1;36m2\u001b[0m\u001b[1;33m)\u001b[0m\u001b[1;33m\u001b[0m\u001b[1;33m\u001b[0m\u001b[0m\n\u001b[1;32m----> 7\u001b[1;33m     \u001b[0mN_B\u001b[0m\u001b[1;33m.\u001b[0m\u001b[0mclick\u001b[0m\u001b[1;33m(\u001b[0m\u001b[1;33m)\u001b[0m\u001b[1;33m\u001b[0m\u001b[1;33m\u001b[0m\u001b[0m\n\u001b[0m\u001b[0;32m      8\u001b[0m     \u001b[0mtime\u001b[0m\u001b[1;33m.\u001b[0m\u001b[0msleep\u001b[0m\u001b[1;33m(\u001b[0m\u001b[1;36m2\u001b[0m\u001b[1;33m)\u001b[0m\u001b[1;33m\u001b[0m\u001b[1;33m\u001b[0m\u001b[0m\n\u001b[0;32m      9\u001b[0m \u001b[0mReviews\u001b[0m\u001b[1;33m\u001b[0m\u001b[1;33m\u001b[0m\u001b[0m\n",
      "\u001b[1;32m~\\anaconda3\\lib\\site-packages\\selenium\\webdriver\\remote\\webelement.py\u001b[0m in \u001b[0;36mclick\u001b[1;34m(self)\u001b[0m\n\u001b[0;32m     78\u001b[0m     \u001b[1;32mdef\u001b[0m \u001b[0mclick\u001b[0m\u001b[1;33m(\u001b[0m\u001b[0mself\u001b[0m\u001b[1;33m)\u001b[0m\u001b[1;33m:\u001b[0m\u001b[1;33m\u001b[0m\u001b[1;33m\u001b[0m\u001b[0m\n\u001b[0;32m     79\u001b[0m         \u001b[1;34m\"\"\"Clicks the element.\"\"\"\u001b[0m\u001b[1;33m\u001b[0m\u001b[1;33m\u001b[0m\u001b[0m\n\u001b[1;32m---> 80\u001b[1;33m         \u001b[0mself\u001b[0m\u001b[1;33m.\u001b[0m\u001b[0m_execute\u001b[0m\u001b[1;33m(\u001b[0m\u001b[0mCommand\u001b[0m\u001b[1;33m.\u001b[0m\u001b[0mCLICK_ELEMENT\u001b[0m\u001b[1;33m)\u001b[0m\u001b[1;33m\u001b[0m\u001b[1;33m\u001b[0m\u001b[0m\n\u001b[0m\u001b[0;32m     81\u001b[0m \u001b[1;33m\u001b[0m\u001b[0m\n\u001b[0;32m     82\u001b[0m     \u001b[1;32mdef\u001b[0m \u001b[0msubmit\u001b[0m\u001b[1;33m(\u001b[0m\u001b[0mself\u001b[0m\u001b[1;33m)\u001b[0m\u001b[1;33m:\u001b[0m\u001b[1;33m\u001b[0m\u001b[1;33m\u001b[0m\u001b[0m\n",
      "\u001b[1;32m~\\anaconda3\\lib\\site-packages\\selenium\\webdriver\\remote\\webelement.py\u001b[0m in \u001b[0;36m_execute\u001b[1;34m(self, command, params)\u001b[0m\n\u001b[0;32m    631\u001b[0m             \u001b[0mparams\u001b[0m \u001b[1;33m=\u001b[0m \u001b[1;33m{\u001b[0m\u001b[1;33m}\u001b[0m\u001b[1;33m\u001b[0m\u001b[1;33m\u001b[0m\u001b[0m\n\u001b[0;32m    632\u001b[0m         \u001b[0mparams\u001b[0m\u001b[1;33m[\u001b[0m\u001b[1;34m'id'\u001b[0m\u001b[1;33m]\u001b[0m \u001b[1;33m=\u001b[0m \u001b[0mself\u001b[0m\u001b[1;33m.\u001b[0m\u001b[0m_id\u001b[0m\u001b[1;33m\u001b[0m\u001b[1;33m\u001b[0m\u001b[0m\n\u001b[1;32m--> 633\u001b[1;33m         \u001b[1;32mreturn\u001b[0m \u001b[0mself\u001b[0m\u001b[1;33m.\u001b[0m\u001b[0m_parent\u001b[0m\u001b[1;33m.\u001b[0m\u001b[0mexecute\u001b[0m\u001b[1;33m(\u001b[0m\u001b[0mcommand\u001b[0m\u001b[1;33m,\u001b[0m \u001b[0mparams\u001b[0m\u001b[1;33m)\u001b[0m\u001b[1;33m\u001b[0m\u001b[1;33m\u001b[0m\u001b[0m\n\u001b[0m\u001b[0;32m    634\u001b[0m \u001b[1;33m\u001b[0m\u001b[0m\n\u001b[0;32m    635\u001b[0m     \u001b[1;32mdef\u001b[0m \u001b[0mfind_element\u001b[0m\u001b[1;33m(\u001b[0m\u001b[0mself\u001b[0m\u001b[1;33m,\u001b[0m \u001b[0mby\u001b[0m\u001b[1;33m=\u001b[0m\u001b[0mBy\u001b[0m\u001b[1;33m.\u001b[0m\u001b[0mID\u001b[0m\u001b[1;33m,\u001b[0m \u001b[0mvalue\u001b[0m\u001b[1;33m=\u001b[0m\u001b[1;32mNone\u001b[0m\u001b[1;33m)\u001b[0m\u001b[1;33m:\u001b[0m\u001b[1;33m\u001b[0m\u001b[1;33m\u001b[0m\u001b[0m\n",
      "\u001b[1;32m~\\anaconda3\\lib\\site-packages\\selenium\\webdriver\\remote\\webdriver.py\u001b[0m in \u001b[0;36mexecute\u001b[1;34m(self, driver_command, params)\u001b[0m\n\u001b[0;32m    319\u001b[0m         \u001b[0mresponse\u001b[0m \u001b[1;33m=\u001b[0m \u001b[0mself\u001b[0m\u001b[1;33m.\u001b[0m\u001b[0mcommand_executor\u001b[0m\u001b[1;33m.\u001b[0m\u001b[0mexecute\u001b[0m\u001b[1;33m(\u001b[0m\u001b[0mdriver_command\u001b[0m\u001b[1;33m,\u001b[0m \u001b[0mparams\u001b[0m\u001b[1;33m)\u001b[0m\u001b[1;33m\u001b[0m\u001b[1;33m\u001b[0m\u001b[0m\n\u001b[0;32m    320\u001b[0m         \u001b[1;32mif\u001b[0m \u001b[0mresponse\u001b[0m\u001b[1;33m:\u001b[0m\u001b[1;33m\u001b[0m\u001b[1;33m\u001b[0m\u001b[0m\n\u001b[1;32m--> 321\u001b[1;33m             \u001b[0mself\u001b[0m\u001b[1;33m.\u001b[0m\u001b[0merror_handler\u001b[0m\u001b[1;33m.\u001b[0m\u001b[0mcheck_response\u001b[0m\u001b[1;33m(\u001b[0m\u001b[0mresponse\u001b[0m\u001b[1;33m)\u001b[0m\u001b[1;33m\u001b[0m\u001b[1;33m\u001b[0m\u001b[0m\n\u001b[0m\u001b[0;32m    322\u001b[0m             response['value'] = self._unwrap_value(\n\u001b[0;32m    323\u001b[0m                 response.get('value', None))\n",
      "\u001b[1;32m~\\anaconda3\\lib\\site-packages\\selenium\\webdriver\\remote\\errorhandler.py\u001b[0m in \u001b[0;36mcheck_response\u001b[1;34m(self, response)\u001b[0m\n\u001b[0;32m    240\u001b[0m                 \u001b[0malert_text\u001b[0m \u001b[1;33m=\u001b[0m \u001b[0mvalue\u001b[0m\u001b[1;33m[\u001b[0m\u001b[1;34m'alert'\u001b[0m\u001b[1;33m]\u001b[0m\u001b[1;33m.\u001b[0m\u001b[0mget\u001b[0m\u001b[1;33m(\u001b[0m\u001b[1;34m'text'\u001b[0m\u001b[1;33m)\u001b[0m\u001b[1;33m\u001b[0m\u001b[1;33m\u001b[0m\u001b[0m\n\u001b[0;32m    241\u001b[0m             \u001b[1;32mraise\u001b[0m \u001b[0mexception_class\u001b[0m\u001b[1;33m(\u001b[0m\u001b[0mmessage\u001b[0m\u001b[1;33m,\u001b[0m \u001b[0mscreen\u001b[0m\u001b[1;33m,\u001b[0m \u001b[0mstacktrace\u001b[0m\u001b[1;33m,\u001b[0m \u001b[0malert_text\u001b[0m\u001b[1;33m)\u001b[0m\u001b[1;33m\u001b[0m\u001b[1;33m\u001b[0m\u001b[0m\n\u001b[1;32m--> 242\u001b[1;33m         \u001b[1;32mraise\u001b[0m \u001b[0mexception_class\u001b[0m\u001b[1;33m(\u001b[0m\u001b[0mmessage\u001b[0m\u001b[1;33m,\u001b[0m \u001b[0mscreen\u001b[0m\u001b[1;33m,\u001b[0m \u001b[0mstacktrace\u001b[0m\u001b[1;33m)\u001b[0m\u001b[1;33m\u001b[0m\u001b[1;33m\u001b[0m\u001b[0m\n\u001b[0m\u001b[0;32m    243\u001b[0m \u001b[1;33m\u001b[0m\u001b[0m\n\u001b[0;32m    244\u001b[0m     \u001b[1;32mdef\u001b[0m \u001b[0m_value_or_default\u001b[0m\u001b[1;33m(\u001b[0m\u001b[0mself\u001b[0m\u001b[1;33m,\u001b[0m \u001b[0mobj\u001b[0m\u001b[1;33m,\u001b[0m \u001b[0mkey\u001b[0m\u001b[1;33m,\u001b[0m \u001b[0mdefault\u001b[0m\u001b[1;33m)\u001b[0m\u001b[1;33m:\u001b[0m\u001b[1;33m\u001b[0m\u001b[1;33m\u001b[0m\u001b[0m\n",
      "\u001b[1;31mStaleElementReferenceException\u001b[0m: Message: stale element reference: element is not attached to the page document\n  (Session info: chrome=91.0.4472.124)\n"
     ]
    }
   ],
   "source": [
    "Reviews = []\n",
    "for r in range(11):\n",
    "    Reviews_tag = driver.find_elements_by_xpath('//p[@class = \"_2-N8zT\"]')\n",
    "    for rw in Reviews_tag:\n",
    "        Reviews.append(rw.text)\n",
    "    time.sleep(2)\n",
    "    N_B.click()\n",
    "    time.sleep(2)\n",
    "Reviews"
   ]
  },
  {
   "cell_type": "code",
   "execution_count": 140,
   "metadata": {},
   "outputs": [
    {
     "data": {
      "text/plain": [
       "110"
      ]
     },
     "execution_count": 140,
     "metadata": {},
     "output_type": "execute_result"
    }
   ],
   "source": [
    "len(Reviews)"
   ]
  },
  {
   "cell_type": "code",
   "execution_count": null,
   "metadata": {},
   "outputs": [],
   "source": []
  }
 ],
 "metadata": {
  "kernelspec": {
   "display_name": "Python 3",
   "language": "python",
   "name": "python3"
  },
  "language_info": {
   "codemirror_mode": {
    "name": "ipython",
    "version": 3
   },
   "file_extension": ".py",
   "mimetype": "text/x-python",
   "name": "python",
   "nbconvert_exporter": "python",
   "pygments_lexer": "ipython3",
   "version": "3.8.5"
  }
 },
 "nbformat": 4,
 "nbformat_minor": 4
}
